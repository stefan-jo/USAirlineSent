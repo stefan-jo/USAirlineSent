{
 "cells": [
  {
   "cell_type": "markdown",
   "metadata": {},
   "source": [
    "# Twitter US Airline Sentiment "
   ]
  },
  {
   "cell_type": "markdown",
   "metadata": {},
   "source": [
    "### Applying ULMFiT to classify the sentiment of tweets"
   ]
  },
  {
   "cell_type": "markdown",
   "metadata": {},
   "source": [
    "In this notebook I will apply ***Universal language model fine-tuning for text classification*** (ULMFiT) to the Twitter US Airline Sentiment dataset that can be downloaded from [kaggle](https://www.kaggle.com/crowdflower/twitter-airline-sentiment#Tweets.csv). ULMFiT was developed at [fast.ai](https://www.fast.ai/) and [published](https://arxiv.org/abs/1801.06146) in 2018 by Jeremy Howard and Sebastian Ruder. The training process introduced in the paper marks a milestone in the use of transfer learning for NLP, inspired a lot of further research in that direction and is still today a powerful technique for text classification."
   ]
  },
  {
   "cell_type": "markdown",
   "metadata": {},
   "source": [
    "I will use the brand new fastai version 2 library, which is going to be officially release any day now. Fastai automatically imports most other libraries that I need so I only need to import the fastai text module and seaborn for visualization."
   ]
  },
  {
   "cell_type": "code",
   "execution_count": 1,
   "metadata": {},
   "outputs": [],
   "source": [
    "from fastai2.text.all import *\n",
    "import seaborn as sns"
   ]
  },
  {
   "cell_type": "markdown",
   "metadata": {},
   "source": [
    "## 1. Data"
   ]
  },
  {
   "cell_type": "markdown",
   "metadata": {},
   "source": [
    "### Exploratory data analysis"
   ]
  },
  {
   "cell_type": "markdown",
   "metadata": {},
   "source": [
    "Before jumping into the training process, I will spend some time exploring the dataset in order to understand what we are trying predict and which variables are available as predictors. First, I will define my path and import the data with pandas."
   ]
  },
  {
   "cell_type": "code",
   "execution_count": 2,
   "metadata": {},
   "outputs": [
    {
     "data": {
      "text/plain": [
       "(#12) [Path('/storage/USAirlineSent/.kaggle'),Path('/storage/USAirlineSent/dls_lm.pkl'),Path('/storage/USAirlineSent/Tweets_final_aug.csv'),Path('/storage/USAirlineSent/others'),Path('/storage/USAirlineSent/.ipynb_checkpoints'),Path('/storage/USAirlineSent/ulmfit_approach.png'),Path('/storage/USAirlineSent/models'),Path('/storage/USAirlineSent/tweets_Data-Aug.ipynb'),Path('/storage/USAirlineSent/Tweets.csv'),Path('/storage/USAirlineSent/Tweets_cls.csv')...]"
      ]
     },
     "execution_count": 2,
     "metadata": {},
     "output_type": "execute_result"
    }
   ],
   "source": [
    "path = Path('/storage/USAirlineSent')\n",
    "path.ls()"
   ]
  },
  {
   "cell_type": "code",
   "execution_count": 3,
   "metadata": {},
   "outputs": [],
   "source": [
    "df = pd.read_csv('Tweets.csv')"
   ]
  },
  {
   "cell_type": "code",
   "execution_count": 4,
   "metadata": {},
   "outputs": [
    {
     "name": "stdout",
     "output_type": "stream",
     "text": [
      "<class 'pandas.core.frame.DataFrame'>\n",
      "RangeIndex: 14640 entries, 0 to 14639\n",
      "Data columns (total 15 columns):\n",
      " #   Column                        Non-Null Count  Dtype  \n",
      "---  ------                        --------------  -----  \n",
      " 0   tweet_id                      14640 non-null  int64  \n",
      " 1   airline_sentiment             14640 non-null  object \n",
      " 2   airline_sentiment_confidence  14640 non-null  float64\n",
      " 3   negativereason                9178 non-null   object \n",
      " 4   negativereason_confidence     10522 non-null  float64\n",
      " 5   airline                       14640 non-null  object \n",
      " 6   airline_sentiment_gold        40 non-null     object \n",
      " 7   name                          14640 non-null  object \n",
      " 8   negativereason_gold           32 non-null     object \n",
      " 9   retweet_count                 14640 non-null  int64  \n",
      " 10  text                          14640 non-null  object \n",
      " 11  tweet_coord                   1019 non-null   object \n",
      " 12  tweet_created                 14640 non-null  object \n",
      " 13  tweet_location                9907 non-null   object \n",
      " 14  user_timezone                 9820 non-null   object \n",
      "dtypes: float64(2), int64(2), object(11)\n",
      "memory usage: 1.7+ MB\n"
     ]
    }
   ],
   "source": [
    "df.info()"
   ]
  },
  {
   "cell_type": "markdown",
   "metadata": {},
   "source": [
    "I find the best way to get a first impression of a dataset is to call `df.info()`. The dataframe contains fourteen columns and has 14640 rows in total. Let's have a look at some rows of data."
   ]
  },
  {
   "cell_type": "code",
   "execution_count": 5,
   "metadata": {},
   "outputs": [
    {
     "data": {
      "text/html": [
       "<div>\n",
       "<style scoped>\n",
       "    .dataframe tbody tr th:only-of-type {\n",
       "        vertical-align: middle;\n",
       "    }\n",
       "\n",
       "    .dataframe tbody tr th {\n",
       "        vertical-align: top;\n",
       "    }\n",
       "\n",
       "    .dataframe thead th {\n",
       "        text-align: right;\n",
       "    }\n",
       "</style>\n",
       "<table border=\"1\" class=\"dataframe\">\n",
       "  <thead>\n",
       "    <tr style=\"text-align: right;\">\n",
       "      <th></th>\n",
       "      <th>tweet_id</th>\n",
       "      <th>airline_sentiment</th>\n",
       "      <th>airline_sentiment_confidence</th>\n",
       "      <th>negativereason</th>\n",
       "      <th>negativereason_confidence</th>\n",
       "      <th>airline</th>\n",
       "      <th>airline_sentiment_gold</th>\n",
       "      <th>name</th>\n",
       "      <th>negativereason_gold</th>\n",
       "      <th>retweet_count</th>\n",
       "      <th>text</th>\n",
       "      <th>tweet_coord</th>\n",
       "      <th>tweet_created</th>\n",
       "      <th>tweet_location</th>\n",
       "      <th>user_timezone</th>\n",
       "    </tr>\n",
       "  </thead>\n",
       "  <tbody>\n",
       "    <tr>\n",
       "      <th>0</th>\n",
       "      <td>570306133677760513</td>\n",
       "      <td>neutral</td>\n",
       "      <td>1.0000</td>\n",
       "      <td>NaN</td>\n",
       "      <td>NaN</td>\n",
       "      <td>Virgin America</td>\n",
       "      <td>NaN</td>\n",
       "      <td>cairdin</td>\n",
       "      <td>NaN</td>\n",
       "      <td>0</td>\n",
       "      <td>@VirginAmerica What @dhepburn said.</td>\n",
       "      <td>NaN</td>\n",
       "      <td>2015-02-24 11:35:52 -0800</td>\n",
       "      <td>NaN</td>\n",
       "      <td>Eastern Time (US &amp; Canada)</td>\n",
       "    </tr>\n",
       "    <tr>\n",
       "      <th>1</th>\n",
       "      <td>570301130888122368</td>\n",
       "      <td>positive</td>\n",
       "      <td>0.3486</td>\n",
       "      <td>NaN</td>\n",
       "      <td>0.0</td>\n",
       "      <td>Virgin America</td>\n",
       "      <td>NaN</td>\n",
       "      <td>jnardino</td>\n",
       "      <td>NaN</td>\n",
       "      <td>0</td>\n",
       "      <td>@VirginAmerica plus you've added commercials to the experience... tacky.</td>\n",
       "      <td>NaN</td>\n",
       "      <td>2015-02-24 11:15:59 -0800</td>\n",
       "      <td>NaN</td>\n",
       "      <td>Pacific Time (US &amp; Canada)</td>\n",
       "    </tr>\n",
       "    <tr>\n",
       "      <th>2</th>\n",
       "      <td>570301083672813571</td>\n",
       "      <td>neutral</td>\n",
       "      <td>0.6837</td>\n",
       "      <td>NaN</td>\n",
       "      <td>NaN</td>\n",
       "      <td>Virgin America</td>\n",
       "      <td>NaN</td>\n",
       "      <td>yvonnalynn</td>\n",
       "      <td>NaN</td>\n",
       "      <td>0</td>\n",
       "      <td>@VirginAmerica I didn't today... Must mean I need to take another trip!</td>\n",
       "      <td>NaN</td>\n",
       "      <td>2015-02-24 11:15:48 -0800</td>\n",
       "      <td>Lets Play</td>\n",
       "      <td>Central Time (US &amp; Canada)</td>\n",
       "    </tr>\n",
       "  </tbody>\n",
       "</table>\n",
       "</div>"
      ],
      "text/plain": [
       "             tweet_id airline_sentiment  airline_sentiment_confidence  \\\n",
       "0  570306133677760513           neutral                        1.0000   \n",
       "1  570301130888122368          positive                        0.3486   \n",
       "2  570301083672813571           neutral                        0.6837   \n",
       "\n",
       "  negativereason  negativereason_confidence         airline  \\\n",
       "0            NaN                        NaN  Virgin America   \n",
       "1            NaN                        0.0  Virgin America   \n",
       "2            NaN                        NaN  Virgin America   \n",
       "\n",
       "  airline_sentiment_gold        name negativereason_gold  retweet_count  \\\n",
       "0                    NaN     cairdin                 NaN              0   \n",
       "1                    NaN    jnardino                 NaN              0   \n",
       "2                    NaN  yvonnalynn                 NaN              0   \n",
       "\n",
       "                                                                       text  \\\n",
       "0                                       @VirginAmerica What @dhepburn said.   \n",
       "1  @VirginAmerica plus you've added commercials to the experience... tacky.   \n",
       "2   @VirginAmerica I didn't today... Must mean I need to take another trip!   \n",
       "\n",
       "  tweet_coord              tweet_created tweet_location  \\\n",
       "0         NaN  2015-02-24 11:35:52 -0800            NaN   \n",
       "1         NaN  2015-02-24 11:15:59 -0800            NaN   \n",
       "2         NaN  2015-02-24 11:15:48 -0800      Lets Play   \n",
       "\n",
       "                user_timezone  \n",
       "0  Eastern Time (US & Canada)  \n",
       "1  Pacific Time (US & Canada)  \n",
       "2  Central Time (US & Canada)  "
      ]
     },
     "execution_count": 5,
     "metadata": {},
     "output_type": "execute_result"
    }
   ],
   "source": [
    "df.head(3)"
   ]
  },
  {
   "cell_type": "markdown",
   "metadata": {},
   "source": [
    "By looking at the columns it becomes failry obvious that the goal is to predict `airline_sentiment` from `text`. Fortunately, these two columns don't have any missing values."
   ]
  },
  {
   "cell_type": "code",
   "execution_count": 6,
   "metadata": {},
   "outputs": [
    {
     "name": "stdout",
     "output_type": "stream",
     "text": [
      "Missing values in airline sentiment: 0\n",
      "Missing values in text: 0\n"
     ]
    }
   ],
   "source": [
    "print(f'Missing values in airline sentiment: {df.airline_sentiment.isna().sum()}')\n",
    "print(f'Missing values in text: {df.text.isna().sum()}')"
   ]
  },
  {
   "cell_type": "markdown",
   "metadata": {},
   "source": [
    "Let's see how many classes we are trying to predict, because sentiment classification use cases range from binary (negative-positive) to 5 or even 10 class prediction problems."
   ]
  },
  {
   "cell_type": "code",
   "execution_count": 7,
   "metadata": {},
   "outputs": [
    {
     "name": "stdout",
     "output_type": "stream",
     "text": [
      "Airline sentiment has 3 classes: ['neutral' 'positive' 'negative']\n"
     ]
    }
   ],
   "source": [
    "print(f'Airline sentiment has {df.airline_sentiment.nunique()} classes: {df.airline_sentiment.unique()}')"
   ]
  },
  {
   "cell_type": "code",
   "execution_count": 8,
   "metadata": {},
   "outputs": [
    {
     "data": {
      "image/png": "[encoded data removed]",
      "text/plain": [
       "<Figure size 432x288 with 1 Axes>"
      ]
     },
     "metadata": {
      "needs_background": "light"
     },
     "output_type": "display_data"
    }
   ],
   "source": [
    "sns.countplot(x='airline_sentiment', data=df, order=['negative','neutral','positive']).set_title('Class distribution');"
   ]
  },
  {
   "cell_type": "markdown",
   "metadata": {},
   "source": [
    "As in many practical sentiment classification problems, the number of negative examples is much larger then neutral or positive examples. This makes sense, since most people tend to complain about bad experiences rather then neutrally or positively describing their flights on twitter. Unfortunately, class imbalances are a problem for machine learning models and we'll need to find a way of how to deal with this later."
   ]
  },
  {
   "cell_type": "markdown",
   "metadata": {},
   "source": [
    "Next, I will explore the main independent variable - text - by analyzing text lenghts."
   ]
  },
  {
   "cell_type": "code",
   "execution_count": 9,
   "metadata": {},
   "outputs": [],
   "source": [
    "df['text_len'] = df['text'].apply(lambda x: len(x))"
   ]
  },
  {
   "cell_type": "code",
   "execution_count": 10,
   "metadata": {},
   "outputs": [
    {
     "name": "stdout",
     "output_type": "stream",
     "text": [
      "Example: tweet \"@VirginAmerica What @dhepburn said.\" has 35 characters.\n"
     ]
    }
   ],
   "source": [
    "print(f'Example: tweet \"{df.text[0]}\" has {df.text_len[0]} characters.')"
   ]
  },
  {
   "cell_type": "code",
   "execution_count": 11,
   "metadata": {},
   "outputs": [
    {
     "data": {
      "text/plain": [
       "count    14640.000000\n",
       "mean       103.822063\n",
       "std         36.277339\n",
       "min         12.000000\n",
       "25%         77.000000\n",
       "50%        114.000000\n",
       "75%        136.000000\n",
       "max        186.000000\n",
       "Name: text_len, dtype: float64"
      ]
     },
     "execution_count": 11,
     "metadata": {},
     "output_type": "execute_result"
    }
   ],
   "source": [
    "df.text_len.describe()"
   ]
  },
  {
   "cell_type": "code",
   "execution_count": 12,
   "metadata": {},
   "outputs": [
    {
     "data": {
      "image/png": "[encoded data removed]",
      "text/plain": [
       "<Figure size 432x288 with 1 Axes>"
      ]
     },
     "metadata": {
      "needs_background": "light"
     },
     "output_type": "display_data"
    }
   ],
   "source": [
    "sns.distplot(df.text_len).set_title('Tweet character lengths');"
   ]
  },
  {
   "cell_type": "markdown",
   "metadata": {},
   "source": [
    "The plot shows a common distribution of twitter datasets. Due to the character limit there is a natural cutoff. Many tweets will have a length close to that maximum since it's hard to reach it exactly. There are also some very short tweets that it's worth zooming into."
   ]
  },
  {
   "cell_type": "code",
   "execution_count": 13,
   "metadata": {},
   "outputs": [
    {
     "data": {
      "text/html": [
       "<div>\n",
       "<style scoped>\n",
       "    .dataframe tbody tr th:only-of-type {\n",
       "        vertical-align: middle;\n",
       "    }\n",
       "\n",
       "    .dataframe tbody tr th {\n",
       "        vertical-align: top;\n",
       "    }\n",
       "\n",
       "    .dataframe thead th {\n",
       "        text-align: right;\n",
       "    }\n",
       "</style>\n",
       "<table border=\"1\" class=\"dataframe\">\n",
       "  <thead>\n",
       "    <tr style=\"text-align: right;\">\n",
       "      <th></th>\n",
       "      <th>tweet_id</th>\n",
       "      <th>airline_sentiment</th>\n",
       "      <th>airline_sentiment_confidence</th>\n",
       "      <th>negativereason</th>\n",
       "      <th>negativereason_confidence</th>\n",
       "      <th>airline</th>\n",
       "      <th>airline_sentiment_gold</th>\n",
       "      <th>name</th>\n",
       "      <th>negativereason_gold</th>\n",
       "      <th>retweet_count</th>\n",
       "      <th>text</th>\n",
       "      <th>tweet_coord</th>\n",
       "      <th>tweet_created</th>\n",
       "      <th>tweet_location</th>\n",
       "      <th>user_timezone</th>\n",
       "      <th>text_len</th>\n",
       "    </tr>\n",
       "  </thead>\n",
       "  <tbody>\n",
       "    <tr>\n",
       "      <th>14</th>\n",
       "      <td>570285904809598977</td>\n",
       "      <td>positive</td>\n",
       "      <td>1.0000</td>\n",
       "      <td>NaN</td>\n",
       "      <td>NaN</td>\n",
       "      <td>Virgin America</td>\n",
       "      <td>NaN</td>\n",
       "      <td>sjespers</td>\n",
       "      <td>NaN</td>\n",
       "      <td>0</td>\n",
       "      <td>@VirginAmerica Thanks!</td>\n",
       "      <td>NaN</td>\n",
       "      <td>2015-02-24 10:15:29 -0800</td>\n",
       "      <td>San Francisco, CA</td>\n",
       "      <td>Pacific Time (US &amp; Canada)</td>\n",
       "      <td>22</td>\n",
       "    </tr>\n",
       "    <tr>\n",
       "      <th>138</th>\n",
       "      <td>569620102389350401</td>\n",
       "      <td>positive</td>\n",
       "      <td>0.7011</td>\n",
       "      <td>NaN</td>\n",
       "      <td>NaN</td>\n",
       "      <td>Virgin America</td>\n",
       "      <td>NaN</td>\n",
       "      <td>HollywoodHotMom</td>\n",
       "      <td>NaN</td>\n",
       "      <td>0</td>\n",
       "      <td>@VirginAmerica always!!! Xoxo</td>\n",
       "      <td>NaN</td>\n",
       "      <td>2015-02-22 14:09:50 -0800</td>\n",
       "      <td>All Over!</td>\n",
       "      <td>Pacific Time (US &amp; Canada)</td>\n",
       "      <td>29</td>\n",
       "    </tr>\n",
       "    <tr>\n",
       "      <th>192</th>\n",
       "      <td>569303931916038144</td>\n",
       "      <td>negative</td>\n",
       "      <td>1.0000</td>\n",
       "      <td>Can't Tell</td>\n",
       "      <td>1.0</td>\n",
       "      <td>Virgin America</td>\n",
       "      <td>NaN</td>\n",
       "      <td>MarwaYousofzoy</td>\n",
       "      <td>NaN</td>\n",
       "      <td>0</td>\n",
       "      <td>@VirginAmerica you suck!</td>\n",
       "      <td>NaN</td>\n",
       "      <td>2015-02-21 17:13:29 -0800</td>\n",
       "      <td>NaN</td>\n",
       "      <td>NaN</td>\n",
       "      <td>24</td>\n",
       "    </tr>\n",
       "  </tbody>\n",
       "</table>\n",
       "</div>"
      ],
      "text/plain": [
       "               tweet_id airline_sentiment  airline_sentiment_confidence  \\\n",
       "14   570285904809598977          positive                        1.0000   \n",
       "138  569620102389350401          positive                        0.7011   \n",
       "192  569303931916038144          negative                        1.0000   \n",
       "\n",
       "    negativereason  negativereason_confidence         airline  \\\n",
       "14             NaN                        NaN  Virgin America   \n",
       "138            NaN                        NaN  Virgin America   \n",
       "192     Can't Tell                        1.0  Virgin America   \n",
       "\n",
       "    airline_sentiment_gold             name negativereason_gold  \\\n",
       "14                     NaN         sjespers                 NaN   \n",
       "138                    NaN  HollywoodHotMom                 NaN   \n",
       "192                    NaN   MarwaYousofzoy                 NaN   \n",
       "\n",
       "     retweet_count                           text tweet_coord  \\\n",
       "14               0         @VirginAmerica Thanks!         NaN   \n",
       "138              0  @VirginAmerica always!!! Xoxo         NaN   \n",
       "192              0       @VirginAmerica you suck!         NaN   \n",
       "\n",
       "                 tweet_created     tweet_location               user_timezone  \\\n",
       "14   2015-02-24 10:15:29 -0800  San Francisco, CA  Pacific Time (US & Canada)   \n",
       "138  2015-02-22 14:09:50 -0800          All Over!  Pacific Time (US & Canada)   \n",
       "192  2015-02-21 17:13:29 -0800                NaN                         NaN   \n",
       "\n",
       "     text_len  \n",
       "14         22  \n",
       "138        29  \n",
       "192        24  "
      ]
     },
     "execution_count": 13,
     "metadata": {},
     "output_type": "execute_result"
    }
   ],
   "source": [
    "df[df.text_len < 30].head(3)"
   ]
  },
  {
   "cell_type": "markdown",
   "metadata": {},
   "source": [
    "Since short text don't contain much information it can be hard for machine learning models to correctly classify them. However, we want to use the model in production to classfiy *all* incoming tweets, the model also needs to be trained on very short tweets and they cannot be dropped."
   ]
  },
  {
   "cell_type": "markdown",
   "metadata": {},
   "source": [
    "Now, let's start looking into the other columns in the dataset. Many columns are meta-data about each tweet - such as Tweet ID, Twitter name, Number of retweets, location etc. - that are either not likely to contribute any predictive power or could lead to the model learning relationships we do not want it to learn. E.g. we wouldn't want to learn a relationship between certain locations and sentiment but make the prediction solely from main input field - the tweet itself."
   ]
  },
  {
   "cell_type": "code",
   "execution_count": 14,
   "metadata": {},
   "outputs": [
    {
     "data": {
      "text/plain": [
       "array(['tweet_id', 'airline_sentiment', 'airline_sentiment_confidence',\n",
       "       'negativereason', 'negativereason_confidence', 'airline',\n",
       "       'airline_sentiment_gold', 'name', 'negativereason_gold',\n",
       "       'retweet_count', 'text', 'tweet_coord', 'tweet_created',\n",
       "       'tweet_location', 'user_timezone', 'text_len'], dtype=object)"
      ]
     },
     "execution_count": 14,
     "metadata": {},
     "output_type": "execute_result"
    }
   ],
   "source": [
    "df.columns.values"
   ]
  },
  {
   "cell_type": "markdown",
   "metadata": {},
   "source": [
    "There is another sentiment column in the dataset - `airline_sentiment_gold` - that should be looked at. If the labels in this column are the same as in `airline_sentiment` it can be ignored."
   ]
  },
  {
   "cell_type": "code",
   "execution_count": 34,
   "metadata": {},
   "outputs": [
    {
     "name": "stdout",
     "output_type": "stream",
     "text": [
      "Check if airline sentiment and airline sentiment gold are the same: True\n"
     ]
    }
   ],
   "source": [
    "print(f'Check if airline sentiment and airline sentiment gold are the same: {all(df[df.airline_sentiment_gold.notnull()].airline_sentiment_gold == df[df.airline_sentiment_gold.notnull()].airline_sentiment)}')"
   ]
  },
  {
   "cell_type": "markdown",
   "metadata": {},
   "source": [
    "There are also a few columns that could potentially help a classifier by providing additional information, such as negative reason."
   ]
  },
  {
   "cell_type": "code",
   "execution_count": 15,
   "metadata": {},
   "outputs": [
    {
     "data": {
      "image/png": "[encoded data removed]",
      "text/plain": [
       "<Figure size 720x360 with 1 Axes>"
      ]
     },
     "metadata": {
      "needs_background": "light"
     },
     "output_type": "display_data"
    }
   ],
   "source": [
    "plt.figure(figsize=(10,5))\n",
    "chart = sns.countplot(\n",
    "    data=df[df.negativereason.notnull()],\n",
    "    x='negativereason'\n",
    ")\n",
    "chart.set_xticklabels(chart.get_xticklabels(), rotation=90)\n",
    "chart.set_title('Count of negative reasons');"
   ]
  },
  {
   "cell_type": "code",
   "execution_count": 16,
   "metadata": {},
   "outputs": [
    {
     "name": "stdout",
     "output_type": "stream",
     "text": [
      "Out of 3099 neutral tweets 0 have a negative reason\n",
      "Out of 2363 positive tweets 0 have a negative reason\n",
      "Out of 9178 negative tweets 9178 have a negative reason\n"
     ]
    }
   ],
   "source": [
    "for c in df.airline_sentiment.unique() :\n",
    "    print(f\"Out of {len(df[df.airline_sentiment == c])} {c} tweets {df[df.airline_sentiment == c].negativereason.notnull().sum()} have a negative reason\")"
   ]
  },
  {
   "cell_type": "markdown",
   "metadata": {},
   "source": [
    "It looks like there could be valuable information, but this additional information should not be used since *only negative tweets have a negative reason*. Hence, the classifier could simply learn that if any of these reasons show up in the concatenated text, the post will be classified as negative - regardless of the actual content of the tweet. This problem is called **data leakage** and should be avoided at all cost. This is especially important since there is no information about the workflow in which the classifier will be used in production. It could be that negative reasons are assigned manually *after* the sentiment is determined. In this case the information wouldn't even be available at inference time.\n",
    "\n",
    "Finally, let's have a look at the individual airlines"
   ]
  },
  {
   "cell_type": "code",
   "execution_count": 17,
   "metadata": {},
   "outputs": [
    {
     "data": {
      "image/png": "[encoded data removed]",
      "text/plain": [
       "<Figure size 720x360 with 1 Axes>"
      ]
     },
     "metadata": {
      "needs_background": "light"
     },
     "output_type": "display_data"
    }
   ],
   "source": [
    "plt.figure(figsize=(10,5))\n",
    "sns.countplot(x='airline', hue='airline_sentiment', data=df, hue_order=['negative','neutral','positive']).set_title('Class distribution by airline');"
   ]
  },
  {
   "cell_type": "markdown",
   "metadata": {},
   "source": [
    "From the plot it looks like United, US Airways and American perform the worst in terms of passenger sentiment. Southwest and Delta have a much lower number of negative tweets relative to neutral and positive tweets. Virgin America has the best ratio with only slightly more negative than neutral or positive tweets but also has the lowest number of tweets overall."
   ]
  },
  {
   "cell_type": "code",
   "execution_count": 18,
   "metadata": {},
   "outputs": [
    {
     "data": {
      "text/html": [
       "<div>\n",
       "<style scoped>\n",
       "    .dataframe tbody tr th:only-of-type {\n",
       "        vertical-align: middle;\n",
       "    }\n",
       "\n",
       "    .dataframe tbody tr th {\n",
       "        vertical-align: top;\n",
       "    }\n",
       "\n",
       "    .dataframe thead th {\n",
       "        text-align: right;\n",
       "    }\n",
       "</style>\n",
       "<table border=\"1\" class=\"dataframe\">\n",
       "  <thead>\n",
       "    <tr style=\"text-align: right;\">\n",
       "      <th></th>\n",
       "      <th>text</th>\n",
       "      <th>airline</th>\n",
       "    </tr>\n",
       "  </thead>\n",
       "  <tbody>\n",
       "    <tr>\n",
       "      <th>8747</th>\n",
       "      <td>@JetBlue bag is supposedly here in Boston</td>\n",
       "      <td>Delta</td>\n",
       "    </tr>\n",
       "    <tr>\n",
       "      <th>6801</th>\n",
       "      <td>“@JetBlue: Our fleet's on fleek. http://t.co/b5ttno68xu” I just 🙈</td>\n",
       "      <td>Delta</td>\n",
       "    </tr>\n",
       "    <tr>\n",
       "      <th>6118</th>\n",
       "      <td>@SouthwestAir it keeps saying that mobile boarding passes are unavailable despite having checked in and everything</td>\n",
       "      <td>Southwest</td>\n",
       "    </tr>\n",
       "    <tr>\n",
       "      <th>9757</th>\n",
       "      <td>@USAirways is holding my luggage hostage from flight 5182</td>\n",
       "      <td>US Airways</td>\n",
       "    </tr>\n",
       "    <tr>\n",
       "      <th>4960</th>\n",
       "      <td>@SouthwestAir ridiculous how you want to charge me $209 to change flights even with multiple seats available on the flight I needed</td>\n",
       "      <td>Southwest</td>\n",
       "    </tr>\n",
       "    <tr>\n",
       "      <th>10917</th>\n",
       "      <td>@USAirways now the plane is 100 degrees and we are burning up. This is completely illegal.</td>\n",
       "      <td>US Airways</td>\n",
       "    </tr>\n",
       "    <tr>\n",
       "      <th>1226</th>\n",
       "      <td>@united thanks for the link, now finally arrived in Brussels, 9 h after schedule...</td>\n",
       "      <td>United</td>\n",
       "    </tr>\n",
       "    <tr>\n",
       "      <th>1007</th>\n",
       "      <td>@united my flight was delayed due to maintenance in LIT and caused me to miss my connection at IAH to MSY. Can you help?</td>\n",
       "      <td>United</td>\n",
       "    </tr>\n",
       "    <tr>\n",
       "      <th>8155</th>\n",
       "      <td>@JetBlue needs to get its act together in #PHX</td>\n",
       "      <td>Delta</td>\n",
       "    </tr>\n",
       "    <tr>\n",
       "      <th>10714</th>\n",
       "      <td>@USAirways This is the last time I use your airline. I promise that!</td>\n",
       "      <td>US Airways</td>\n",
       "    </tr>\n",
       "  </tbody>\n",
       "</table>\n",
       "</div>"
      ],
      "text/plain": [
       "                                                                                                                                      text  \\\n",
       "8747                                                                                             @JetBlue bag is supposedly here in Boston   \n",
       "6801                                                                     “@JetBlue: Our fleet's on fleek. http://t.co/b5ttno68xu” I just 🙈   \n",
       "6118                    @SouthwestAir it keeps saying that mobile boarding passes are unavailable despite having checked in and everything   \n",
       "9757                                                                             @USAirways is holding my luggage hostage from flight 5182   \n",
       "4960   @SouthwestAir ridiculous how you want to charge me $209 to change flights even with multiple seats available on the flight I needed   \n",
       "10917                                           @USAirways now the plane is 100 degrees and we are burning up. This is completely illegal.   \n",
       "1226                                                   @united thanks for the link, now finally arrived in Brussels, 9 h after schedule...   \n",
       "1007              @united my flight was delayed due to maintenance in LIT and caused me to miss my connection at IAH to MSY. Can you help?   \n",
       "8155                                                                                        @JetBlue needs to get its act together in #PHX   \n",
       "10714                                                                 @USAirways This is the last time I use your airline. I promise that!   \n",
       "\n",
       "          airline  \n",
       "8747        Delta  \n",
       "6801        Delta  \n",
       "6118    Southwest  \n",
       "9757   US Airways  \n",
       "4960    Southwest  \n",
       "10917  US Airways  \n",
       "1226       United  \n",
       "1007       United  \n",
       "8155        Delta  \n",
       "10714  US Airways  "
      ]
     },
     "execution_count": 18,
     "metadata": {},
     "output_type": "execute_result"
    }
   ],
   "source": [
    "df[['text', 'airline']].sample(10)"
   ]
  },
  {
   "cell_type": "markdown",
   "metadata": {},
   "source": [
    "Usually tweets include the airline name, but sometimes in somewhat different forms. American and Southwest are very often referred to as @AmericanAir or @SouthwestAir and Delta is many times referred to as @JetBlue. I will clean up some of these name differences in the next section."
   ]
  },
  {
   "cell_type": "markdown",
   "metadata": {},
   "source": [
    "### Pre-processing"
   ]
  },
  {
   "cell_type": "markdown",
   "metadata": {},
   "source": [
    "First, I create a new column to also keep the original texts. Then, I add the airline name to all texts that do not include the corresponding value from the airline column. This should cover the @JetBlue case and any other case where the airline mentioned in the text is different or missing entirely. "
   ]
  },
  {
   "cell_type": "code",
   "execution_count": 19,
   "metadata": {},
   "outputs": [],
   "source": [
    "df['text_new'] = df['text']"
   ]
  },
  {
   "cell_type": "code",
   "execution_count": 20,
   "metadata": {},
   "outputs": [],
   "source": [
    "for i in range(len(df)):\n",
    "    if not df.loc[i,'airline'].replace(' ','').lower() in df.loc[i,'text'].replace(' ','').lower():\n",
    "        df.loc[i,'text_new'] = '@' + df.loc[i,'airline'] + ' ' + df.loc[i,'text_new']"
   ]
  },
  {
   "cell_type": "code",
   "execution_count": 21,
   "metadata": {},
   "outputs": [],
   "source": [
    "df.rename(columns={'text':'text_old', 'text_new':'text'}, inplace=True)"
   ]
  },
  {
   "cell_type": "markdown",
   "metadata": {},
   "source": [
    "Then I will replace three different spelling version of @AmericanAir and @SouthwestAir with the corresponding value from the airline column. Note that one could spend a lot more time on text cleaning like this, but a few simple rules that cover most cases usually will do the job."
   ]
  },
  {
   "cell_type": "code",
   "execution_count": 22,
   "metadata": {},
   "outputs": [],
   "source": [
    "idx = df[df.airline == 'American'].index\n",
    "df.loc[idx, 'text'] = df.loc[idx, 'text'].apply(lambda x: x.replace('@AmericanAir', '@American'))\n",
    "df.loc[idx, 'text'] = df.loc[idx, 'text'].apply(lambda x: x.replace('@Americanair', '@American'))\n",
    "df.loc[idx, 'text'] = df.loc[idx, 'text'].apply(lambda x: x.replace('@americanair', '@American'))"
   ]
  },
  {
   "cell_type": "code",
   "execution_count": 23,
   "metadata": {},
   "outputs": [],
   "source": [
    "idx = df[df.airline == 'Southwest'].index\n",
    "df.loc[idx, 'text'] = df.loc[idx, 'text'].apply(lambda x: x.replace('@SouthwestAir', '@Southwest'))\n",
    "df.loc[idx, 'text'] = df.loc[idx, 'text'].apply(lambda x: x.replace('@Southwestair', '@Southwest'))\n",
    "df.loc[idx, 'text'] = df.loc[idx, 'text'].apply(lambda x: x.replace('@southwestair', '@Southwest'))"
   ]
  },
  {
   "cell_type": "markdown",
   "metadata": {},
   "source": [
    "Now comes the amazing part of using fastai. All other necessary steps of getting the raw text data into a format that machine learning models can process is done automatically by fastai. It is also worth mentioning that in the new era of using deep learning for NLP, the need for pre-processing text has been greatly reduced. Before deep learning, many pre-processing steps needed to be applied, such as removing stopwords and punctuation or text normlization (e.g. lemmatization or stemming). It turns out that deep learning models can handle the complexities of human language suprisingly well and *removing information from the data can actually hurt model performance*. \n",
    "\n",
    "I will quickly demonstrate what fastai does behind the scenes."
   ]
  },
  {
   "cell_type": "code",
   "execution_count": 24,
   "metadata": {},
   "outputs": [
    {
     "data": {
      "text/plain": [
       "[<function fastai2.text.core.fix_html(x)>,\n",
       " <function fastai2.text.core.replace_rep(t)>,\n",
       " <function fastai2.text.core.replace_wrep(t)>,\n",
       " <function fastai2.text.core.spec_add_spaces(t)>,\n",
       " <function fastai2.text.core.rm_useless_spaces(t)>,\n",
       " <function fastai2.text.core.replace_all_caps(t)>,\n",
       " <function fastai2.text.core.replace_maj(t)>,\n",
       " <function fastai2.text.core.lowercase(t, add_bos=True, add_eos=False)>]"
      ]
     },
     "execution_count": 24,
     "metadata": {},
     "output_type": "execute_result"
    }
   ],
   "source": [
    "defaults.text_proc_rules"
   ]
  },
  {
   "cell_type": "markdown",
   "metadata": {},
   "source": [
    "The above list shows all functions that fastai applies for text pre-processing. I will not go into detail of each rule but one great example is that fastai does lowercasing while maintaining the information that the initial character of a word or the whole word was in capital letters by adding special tokens such as `xxmaj` or `xxup`, respectively. It also adds a `xxbos` token to clearly mark the beginning of each document.\n",
    "\n",
    "The default tokenizer in fastai is based on a word-based [spaCy](https://spacy.io/) tokenizer and works like this."
   ]
  },
  {
   "cell_type": "code",
   "execution_count": 25,
   "metadata": {},
   "outputs": [],
   "source": [
    "spacy = WordTokenizer()\n",
    "tkn = Tokenizer(spacy)"
   ]
  },
  {
   "cell_type": "code",
   "execution_count": 26,
   "metadata": {},
   "outputs": [
    {
     "data": {
      "text/plain": [
       "\"@VirginAmerica seriously would pay $30 a flight for seats that didn't have this playing.\\nit's really the only bad thing about flying VA\""
      ]
     },
     "execution_count": 26,
     "metadata": {},
     "output_type": "execute_result"
    }
   ],
   "source": [
    "txt = df['text'][5]\n",
    "txt"
   ]
  },
  {
   "cell_type": "code",
   "execution_count": 27,
   "metadata": {},
   "outputs": [
    {
     "name": "stdout",
     "output_type": "stream",
     "text": [
      "(#30) ['xxbos','@virginamerica','seriously','would','pay','$','30','a','flight','for','seats','that','did',\"n't\",'have','this','playing','.','\\n','it',\"'s\",'really','the','only','bad','thing','about','flying','xxup','va'...]\n"
     ]
    }
   ],
   "source": [
    "print(coll_repr(tkn(df['text'][5]), 50))"
   ]
  },
  {
   "cell_type": "markdown",
   "metadata": {},
   "source": [
    "I also experimented with sub-word tokenization using `SentencePieceTokenizer` but it performed slightly worse than standard word-based tokenization.\n",
    "\n",
    "The last step fastai carries out in the pre-processing pipeline is numericalization, i.e. creating a vocabulary and assigning each token to a token id, but I won't go into the details here."
   ]
  },
  {
   "cell_type": "markdown",
   "metadata": {},
   "source": [
    "### Training-validation split"
   ]
  },
  {
   "cell_type": "markdown",
   "metadata": {},
   "source": [
    "In order to evaluate my model on unseen data, I need to create a separate validation set. First, I shuffle the dataframe and then I assign 80% to training and 20% to validation set by creating a new column. Because I am experimenting with different modeling approaches it is very important to have a fixed validation set and not to randomly select a different validation set at each run/for each approach in order to ensure comparability."
   ]
  },
  {
   "cell_type": "code",
   "execution_count": 28,
   "metadata": {},
   "outputs": [],
   "source": [
    "df = df.sample(frac=1).reset_index(drop=True)"
   ]
  },
  {
   "cell_type": "code",
   "execution_count": 29,
   "metadata": {},
   "outputs": [],
   "source": [
    "df['is_valid'] = None\n",
    "df.loc[:int(0.8*len(df)), 'is_valid'] = False\n",
    "df.loc[int(0.8*len(df)):, 'is_valid'] = True"
   ]
  },
  {
   "cell_type": "code",
   "execution_count": 30,
   "metadata": {},
   "outputs": [
    {
     "data": {
      "text/plain": [
       "(0.8, 0.2)"
      ]
     },
     "execution_count": 30,
     "metadata": {},
     "output_type": "execute_result"
    }
   ],
   "source": [
    "len(df[df.is_valid==False])/len(df), len(df[df.is_valid==True])/len(df)"
   ]
  },
  {
   "cell_type": "code",
   "execution_count": 55,
   "metadata": {},
   "outputs": [],
   "source": [
    "df.to_csv(path/'Tweets_valid.csv', index=False)"
   ]
  },
  {
   "cell_type": "markdown",
   "metadata": {},
   "source": [
    "### Data augmentation and rebalancing"
   ]
  },
  {
   "cell_type": "markdown",
   "metadata": {},
   "source": [
    "After looking at the dataset, it is clear that it comes with two common disadvantages. First, it is relatively small and second, the class distribution is highly imbalanced. This is problematic for machine learning models, since they could learn to predict only/mainly the dominant class which can result in a good loss but the model wouldn't actually have learned anything valuable from the data.\n",
    "\n",
    "To solve these issues, I rebalance the dataset using **back-translation for text classification** as in the paper [Unsupervised Data Augmentation for Consistency Training](https://arxiv.org/abs/1904.12848) by Xie at al. I implemented back-translation using the recently released Neural Machine Translation models from [Helsinki NLP](https://blogs.helsinki.fi/language-technology/) on the [huggingface model hub](https://huggingface.co/models) in a [separate notebook](https://github.com/stefan-jo/USAirlineSent/blob/master/tweets_Data-Aug.ipynb) that I also uploaded on Github. Back-translation is a valid form of data augmentation for NLP since it preserves the overall semantics of the original text while slightly altering the wording. I applied back-translation by first translating the entire training set to German and back to English and then translating the remaining gaps in the class distribution to French and back to English.\n",
    "\n",
    "I'm now loading the augmented dataset."
   ]
  },
  {
   "cell_type": "code",
   "execution_count": 15,
   "metadata": {},
   "outputs": [],
   "source": [
    "df = pd.read_csv('Tweets_final_aug.csv', low_memory=False)"
   ]
  },
  {
   "cell_type": "code",
   "execution_count": 16,
   "metadata": {},
   "outputs": [
    {
     "name": "stdout",
     "output_type": "stream",
     "text": [
      "Increased overall dataset size from 14640 to 35104 examples\n"
     ]
    }
   ],
   "source": [
    "print(f'Increased overall dataset size from {len(df[df.translated==False])} to {len(df)} examples')"
   ]
  },
  {
   "cell_type": "code",
   "execution_count": 17,
   "metadata": {},
   "outputs": [
    {
     "data": {
      "text/plain": [
       "0.07030537830446673"
      ]
     },
     "execution_count": 17,
     "metadata": {},
     "output_type": "execute_result"
    }
   ],
   "source": [
    "df.duplicated(subset=['text']).sum() / len(df)"
   ]
  },
  {
   "cell_type": "markdown",
   "metadata": {},
   "source": [
    "It seems like the data augmentation is working as intended, since only 7% of all text are duplicates.\n",
    "\n",
    "For language modelling I will use all 35104 examples. However, for classification I will not use the translated negative examples since I want to achieve an even class distribution."
   ]
  },
  {
   "cell_type": "code",
   "execution_count": 18,
   "metadata": {},
   "outputs": [],
   "source": [
    "df_train = df[df.is_valid == False]\n",
    "df_valid = df[df.is_valid == True]"
   ]
  },
  {
   "cell_type": "code",
   "execution_count": 19,
   "metadata": {},
   "outputs": [],
   "source": [
    "df_train = pd.concat([df_train[(df_train.airline_sentiment == 'negative') & (df_train.translated == False)], \n",
    "                     df_train[df_train.airline_sentiment != 'negative']])"
   ]
  },
  {
   "cell_type": "code",
   "execution_count": 20,
   "metadata": {},
   "outputs": [],
   "source": [
    "df_cls = pd.concat([df_train, df_valid[df_valid.translated==False]]).reset_index(drop=True)"
   ]
  },
  {
   "cell_type": "code",
   "execution_count": 24,
   "metadata": {},
   "outputs": [],
   "source": [
    "df_cls.to_csv('Tweets_cls.csv', index=False)"
   ]
  },
  {
   "cell_type": "code",
   "execution_count": 22,
   "metadata": {},
   "outputs": [
    {
     "data": {
      "image/png": "[encoded data removed]",
      "text/plain": [
       "<Figure size 432x288 with 1 Axes>"
      ]
     },
     "metadata": {
      "needs_background": "light"
     },
     "output_type": "display_data"
    }
   ],
   "source": [
    "sns.countplot(x='airline_sentiment', data=df_cls[df_cls.is_valid==False], order=['negative','neutral','positive']).set_title('Rebalanced training set class distribution');"
   ]
  },
  {
   "cell_type": "markdown",
   "metadata": {},
   "source": [
    "For the validation set I keep the original imbalanced class distribution, since that is the distribution that the model most likely will encounter in production. Therefore, evaluating on an imbalanced distribution will yield the most realistic performance evaluation."
   ]
  },
  {
   "cell_type": "code",
   "execution_count": 23,
   "metadata": {},
   "outputs": [
    {
     "data": {
      "image/png": "[encoded data removed]",
      "text/plain": [
       "<Figure size 432x288 with 1 Axes>"
      ]
     },
     "metadata": {
      "needs_background": "light"
     },
     "output_type": "display_data"
    }
   ],
   "source": [
    "sns.countplot(x='airline_sentiment', data=df_cls[df_cls.is_valid==True], order=['negative','neutral','positive']).set_title('Validation set class distribution');"
   ]
  },
  {
   "cell_type": "markdown",
   "metadata": {},
   "source": [
    "## 2. Language model fine-tuning"
   ]
  },
  {
   "cell_type": "markdown",
   "metadata": {},
   "source": [
    "### Model description"
   ]
  },
  {
   "cell_type": "markdown",
   "metadata": {},
   "source": [
    "ULMFiT can be understood as a transfer learning process that leverages the power of semi-supervised learning for text classification. It was a landmark paper since it introduced the idea of fine-tuning entire deep learning models in NLP instead of just word embeddings - a concept that has already been best practice in computer vision since several years. \n",
    "\n",
    "The main steps in the ULMFiT training process are:\n",
    "1. Pre-train a language model on a large corpus of unlabeled text (e.g. Wikitext 103)\n",
    "2. Fine-tune the pre-trained language model on a unlabeled target corpus (e.g. in the image below IMDb, in our case Twitter US Airline sentiment)\n",
    "3. Add a classification head on top of the encoder part of the fine-tuned language model and fine-tune the classifier on labeled examples"
   ]
  },
  {
   "cell_type": "markdown",
   "metadata": {},
   "source": [
    "<img src=\"ulmfit_approach.png\" width=\"600\" />"
   ]
  },
  {
   "cell_type": "markdown",
   "metadata": {},
   "source": [
    "This technique allows to effectively leverage the power of semi-supervised language model pre-training. Language modelling is the process of iteratively predicting the next token in a stream of data. This doesn't require any external labels since the labels are built into the training data. The underlying idea is that by being able to solve the hard task of predicting the next word given a sequence of previous words the model needs to learn many features about syntax, semantics and even knowledge about the real world. These learned language representations turned out to be useful for many downstream tasks, such as text classification or named-entity recognition, as well. \n",
    "\n",
    "The task for transferring knowledge from language models to classifiers is not trivial. The authors of the ULMFiT paper introduced two methods that make this possible and avoid what is called *catastrophic forgetting*:\n",
    "1. **Discriminative fine-tuning**: Because earlier layers learn more general features, they should be updated less than the later, more task-specific layers. Instead of applying the same learning rate to all layers, a different learning rate is applied to different layers.\n",
    "2. **Slated triangular learning rates**: Different learning rates are applied throughout the process of model training. Initially the learning rate starts low out low to warm up and fine-tune the model carefully at the beginning. Then, the learning rate is increased sharply and finally gradually decreased again.\n",
    "3. **Gradual unfreezing**: The final trick in the ULMFiT toolbox is not to unfreeze all layers at the same time, but to unfreeze the layers one after another, starting at the top and gradually unfreezing more layers before fine-tuning the whole model.\n",
    "\n",
    "A big decision that must be made is the choice of architecture. The original ULMFiT model was based on an AWD-LSTM, which is a well regularized LSTM-RNN introduced by Merity, Keskar and Socher in [Regularizing and Optimizing LSTM Language Models](https://arxiv.org/abs/1708.02182). Another option that found success in the multi-lingual [MultiFiT](https://arxiv.org/abs/1909.04761) paper by Eisenschloss et al. is a QRNN architecture introduced by Bradbury et al. in [Quasi-Recurrent Neural Networks](https://arxiv.org/abs/1611.01576). Since the QRNN only has a recurrence mechanism in the pooling layer but doesn't use previous time-steps for calculating the hidden state it trains faster than Recurrent Neural Networks while showing similar performance as LSTMs. \n",
    "\n",
    "**Model architecture**\n",
    "\n",
    "In fastai v2, until now only a 3-layer AWD-LSTM and 4-layer AWD-QRNN are available architectures. However, while the AWD-LSTM has a pre-trained Wikitext 103 model available, this is not yet the case for the AWD-QRNN. I tried pre-training a AWD-QRNN from scratch on the [Sentiment 140 dataset](https://www.kaggle.com/kazanova/sentiment140) with 1.6 million tweets but it didn't surpass the performance of the pre-trained AWD-LSTM model.\n",
    "\n",
    "In fastai v1, also Transformer and TransformerXL architectures are available. However, the Transformer performed a lot worse than both AWD-LSTM and AWD-QRNN and the TransformerXL model is not a feasible choice, since there are no pre-trained weights available and pre-training from scratch would require a vast amount of data and resources."
   ]
  },
  {
   "cell_type": "markdown",
   "metadata": {},
   "source": [
    "### Language Model DataLoaders"
   ]
  },
  {
   "cell_type": "markdown",
   "metadata": {},
   "source": [
    "Let's finally dive into the modelling itself. I will start by creating a DataLoaders object, which combines training and validation dataloaders, using the DataBlock API. Also, I need to define batch size and sequence lenght for *backpropagation through time*. For language modelling I use a random validation split of 20%."
   ]
  },
  {
   "cell_type": "code",
   "execution_count": 88,
   "metadata": {},
   "outputs": [],
   "source": [
    "bs, sl = 128, 80"
   ]
  },
  {
   "cell_type": "code",
   "execution_count": 89,
   "metadata": {},
   "outputs": [],
   "source": [
    "dblock_lm = DataBlock(blocks=(TextBlock.from_df('text', seq_len=sl, is_lm=True)),\n",
    "                      get_x=ColReader('text'),\n",
    "                      splitter=RandomSplitter(0.2))"
   ]
  },
  {
   "cell_type": "code",
   "execution_count": 90,
   "metadata": {},
   "outputs": [
    {
     "data": {
      "text/html": [],
      "text/plain": [
       "<IPython.core.display.HTML object>"
      ]
     },
     "metadata": {},
     "output_type": "display_data"
    }
   ],
   "source": [
    "dls_lm = dblock_lm.dataloaders(df, bs=bs, seq_len=sl)"
   ]
  },
  {
   "cell_type": "code",
   "execution_count": 114,
   "metadata": {},
   "outputs": [
    {
     "name": "stdout",
     "output_type": "stream",
     "text": [
      "Training set size: 28084\n",
      "Validation set size: 7020\n"
     ]
    }
   ],
   "source": [
    "print(f'Training set size: {len(dls_lm.train_ds)}')\n",
    "print(f'Validation set size: {len(dls_lm.valid_ds)}')"
   ]
  },
  {
   "cell_type": "code",
   "execution_count": 93,
   "metadata": {},
   "outputs": [
    {
     "name": "stdout",
     "output_type": "stream",
     "text": [
      "Vocabulary size: 9264\n"
     ]
    }
   ],
   "source": [
    "print(f'Vocabulary size: {len(dls_lm.vocab)}')"
   ]
  },
  {
   "cell_type": "code",
   "execution_count": 94,
   "metadata": {},
   "outputs": [
    {
     "data": {
      "text/html": [
       "<table border=\"1\" class=\"dataframe\">\n",
       "  <thead>\n",
       "    <tr style=\"text-align: right;\">\n",
       "      <th></th>\n",
       "      <th>text</th>\n",
       "      <th>text_</th>\n",
       "    </tr>\n",
       "  </thead>\n",
       "  <tbody>\n",
       "    <tr>\n",
       "      <th>0</th>\n",
       "      <td>xxbos @southwestair … and how do you get this companion pass ? xxbos @usairways what is the expected wait time to speak to someone via 800 number ? xxbos @american xxmaj i 'm booked for xxmaj tuesday night . 60 degrees in xxmaj xxunk right now . xxmaj i 'm good . xxmaj stay warm and safe . xxbos @usairways @americanair xxmaj thank you for a few easy , hassle - free flights today , professional and friendly staff made</td>\n",
       "      <td>@southwestair … and how do you get this companion pass ? xxbos @usairways what is the expected wait time to speak to someone via 800 number ? xxbos @american xxmaj i 'm booked for xxmaj tuesday night . 60 degrees in xxmaj xxunk right now . xxmaj i 'm good . xxmaj stay warm and safe . xxbos @usairways @americanair xxmaj thank you for a few easy , hassle - free flights today , professional and friendly staff made everything</td>\n",
       "    </tr>\n",
       "    <tr>\n",
       "      <th>1</th>\n",
       "      <td>with a crappy web form that is not made for mobile devices xxbos @delta @jetblue i think it 's safe to say that after 25 years of loyal # jetblue flying we are officially xxup done . # xxmaj xxunk xxbos @southwest @love_dragonss a xxrep 4 h xxup yes xxup lauren xxbos @americanair i just received the ticket . xxmaj thank you for your help xxbos @usairways xxmaj thanks xxmaj kevin and team at xxmaj f38ish at xxup phl for</td>\n",
       "      <td>a crappy web form that is not made for mobile devices xxbos @delta @jetblue i think it 's safe to say that after 25 years of loyal # jetblue flying we are officially xxup done . # xxmaj xxunk xxbos @southwest @love_dragonss a xxrep 4 h xxup yes xxup lauren xxbos @americanair i just received the ticket . xxmaj thank you for your help xxbos @usairways xxmaj thanks xxmaj kevin and team at xxmaj f38ish at xxup phl for some</td>\n",
       "    </tr>\n",
       "    <tr>\n",
       "      <th>2</th>\n",
       "      <td>just silence . xxmaj for hours when we were sitting . xxmaj oh , and then seat was broken . # worst xxbos @southwest xxup amazing c / s today by xxup sw thank you very much . xxmaj that 's why we 're stealing # xxmaj southwest xxbos @usairways your agent did not say xxbos @usairways can not add my frequent flyer number on your website . xxmaj can you help ? xxbos @southwest prove it xxbos @americanair i</td>\n",
       "      <td>silence . xxmaj for hours when we were sitting . xxmaj oh , and then seat was broken . # worst xxbos @southwest xxup amazing c / s today by xxup sw thank you very much . xxmaj that 's why we 're stealing # xxmaj southwest xxbos @usairways your agent did not say xxbos @usairways can not add my frequent flyer number on your website . xxmaj can you help ? xxbos @southwest prove it xxbos @americanair i xxunk</td>\n",
       "    </tr>\n",
       "  </tbody>\n",
       "</table>"
      ],
      "text/plain": [
       "<IPython.core.display.HTML object>"
      ]
     },
     "metadata": {},
     "output_type": "display_data"
    }
   ],
   "source": [
    "dls_lm.show_batch(max_n=3)"
   ]
  },
  {
   "cell_type": "markdown",
   "metadata": {},
   "source": [
    "By looking at the data it becomes clear what the DataBlock API did behind the scences if `is_lm=True` is chosen. The targets are same as the input texts *but shifted by one token to the right*. "
   ]
  },
  {
   "cell_type": "markdown",
   "metadata": {},
   "source": [
    "### Forward processing"
   ]
  },
  {
   "cell_type": "markdown",
   "metadata": {},
   "source": [
    "I now define a `language_model_learner`, which automatically loads the pre-trained Wikitext 103 weights into the AWD-LSTM architecture, selects an appropriate loss function and optimizer, adds momentum and performs other tweaks such as splitting the model into layer groups.\n",
    "\n",
    "I define the following inputs:\n",
    "- **Dropout**: rather than tuning each of the many dropout probabilities indiviually, `drop_mult` allows the used to scale all dropout probabilities together, which `drop_mult=1.0` being the default values. In this case, decreasing the amount of regularization improved model performance.\n",
    "- **Metrics**: Accuracy measures how often the model correctly predicts the next word out of all 9264 words in the vocabulary. Perpexity, which is the exponential of the cross-entropy loss, is a common metric for language modelling. \n",
    "- **Mixed-precision callback**: by adding `to_fp16()` the model will use mixed-precision training, which uses half-precision for forward and backward propagation to allow faster training but full-precision for gradient updates to avoid imprecise updates."
   ]
  },
  {
   "cell_type": "code",
   "execution_count": 98,
   "metadata": {},
   "outputs": [],
   "source": [
    "learn = language_model_learner(dls_lm, AWD_LSTM, drop_mult=0.5, metrics=[accuracy, Perplexity()]).to_fp16()"
   ]
  },
  {
   "cell_type": "code",
   "execution_count": 99,
   "metadata": {},
   "outputs": [
    {
     "data": {
      "text/html": [],
      "text/plain": [
       "<IPython.core.display.HTML object>"
      ]
     },
     "metadata": {},
     "output_type": "display_data"
    },
    {
     "data": {
      "text/plain": [
       "SuggestedLRs(lr_min=0.06309573650360108, lr_steep=0.0691830962896347)"
      ]
     },
     "execution_count": 99,
     "metadata": {},
     "output_type": "execute_result"
    },
    {
     "data": {
      "image/png": "[encoded data removed]",
      "text/plain": [
       "<Figure size 432x288 with 1 Axes>"
      ]
     },
     "metadata": {
      "needs_background": "light"
     },
     "output_type": "display_data"
    }
   ],
   "source": [
    "learn.lr_find()"
   ]
  },
  {
   "cell_type": "markdown",
   "metadata": {},
   "source": [
    "The learning rate can be chosen using fastai's conveniant **learning rate finder**, which starts training the model with an increasing learning rate to find out at which rate the model learns the fastest.\n",
    "\n",
    "The new fastai v2 method `learn.fine_tune` first trains the frozen language model to only update the embeddings layer, then unfreezes and trains the entire model for 20 epochs. I also set **weight decay** to 0.01 in order to add some more regularization."
   ]
  },
  {
   "cell_type": "code",
   "execution_count": 100,
   "metadata": {},
   "outputs": [
    {
     "data": {
      "text/html": [
       "<table border=\"1\" class=\"dataframe\">\n",
       "  <thead>\n",
       "    <tr style=\"text-align: left;\">\n",
       "      <th>epoch</th>\n",
       "      <th>train_loss</th>\n",
       "      <th>valid_loss</th>\n",
       "      <th>accuracy</th>\n",
       "      <th>perplexity</th>\n",
       "      <th>time</th>\n",
       "    </tr>\n",
       "  </thead>\n",
       "  <tbody>\n",
       "    <tr>\n",
       "      <td>0</td>\n",
       "      <td>4.540660</td>\n",
       "      <td>4.011322</td>\n",
       "      <td>0.263410</td>\n",
       "      <td>55.219826</td>\n",
       "      <td>01:37</td>\n",
       "    </tr>\n",
       "  </tbody>\n",
       "</table>"
      ],
      "text/plain": [
       "<IPython.core.display.HTML object>"
      ]
     },
     "metadata": {},
     "output_type": "display_data"
    },
    {
     "data": {
      "text/html": [
       "<table border=\"1\" class=\"dataframe\">\n",
       "  <thead>\n",
       "    <tr style=\"text-align: left;\">\n",
       "      <th>epoch</th>\n",
       "      <th>train_loss</th>\n",
       "      <th>valid_loss</th>\n",
       "      <th>accuracy</th>\n",
       "      <th>perplexity</th>\n",
       "      <th>time</th>\n",
       "    </tr>\n",
       "  </thead>\n",
       "  <tbody>\n",
       "    <tr>\n",
       "      <td>0</td>\n",
       "      <td>3.687577</td>\n",
       "      <td>3.546840</td>\n",
       "      <td>0.313441</td>\n",
       "      <td>34.703487</td>\n",
       "      <td>01:43</td>\n",
       "    </tr>\n",
       "    <tr>\n",
       "      <td>1</td>\n",
       "      <td>3.524276</td>\n",
       "      <td>3.415937</td>\n",
       "      <td>0.329256</td>\n",
       "      <td>30.445469</td>\n",
       "      <td>01:43</td>\n",
       "    </tr>\n",
       "    <tr>\n",
       "      <td>2</td>\n",
       "      <td>3.369646</td>\n",
       "      <td>3.324966</td>\n",
       "      <td>0.337778</td>\n",
       "      <td>27.798046</td>\n",
       "      <td>01:44</td>\n",
       "    </tr>\n",
       "    <tr>\n",
       "      <td>3</td>\n",
       "      <td>3.227460</td>\n",
       "      <td>3.252619</td>\n",
       "      <td>0.350674</td>\n",
       "      <td>25.857973</td>\n",
       "      <td>01:43</td>\n",
       "    </tr>\n",
       "    <tr>\n",
       "      <td>4</td>\n",
       "      <td>3.071623</td>\n",
       "      <td>3.195496</td>\n",
       "      <td>0.361006</td>\n",
       "      <td>24.422287</td>\n",
       "      <td>01:42</td>\n",
       "    </tr>\n",
       "    <tr>\n",
       "      <td>5</td>\n",
       "      <td>2.919820</td>\n",
       "      <td>3.116642</td>\n",
       "      <td>0.376178</td>\n",
       "      <td>22.570450</td>\n",
       "      <td>01:42</td>\n",
       "    </tr>\n",
       "    <tr>\n",
       "      <td>6</td>\n",
       "      <td>2.766087</td>\n",
       "      <td>3.047589</td>\n",
       "      <td>0.388247</td>\n",
       "      <td>21.064497</td>\n",
       "      <td>01:42</td>\n",
       "    </tr>\n",
       "    <tr>\n",
       "      <td>7</td>\n",
       "      <td>2.607582</td>\n",
       "      <td>2.987858</td>\n",
       "      <td>0.402714</td>\n",
       "      <td>19.843134</td>\n",
       "      <td>01:43</td>\n",
       "    </tr>\n",
       "    <tr>\n",
       "      <td>8</td>\n",
       "      <td>2.454636</td>\n",
       "      <td>2.926714</td>\n",
       "      <td>0.417649</td>\n",
       "      <td>18.666191</td>\n",
       "      <td>01:42</td>\n",
       "    </tr>\n",
       "    <tr>\n",
       "      <td>9</td>\n",
       "      <td>2.320695</td>\n",
       "      <td>2.878920</td>\n",
       "      <td>0.432567</td>\n",
       "      <td>17.795042</td>\n",
       "      <td>01:44</td>\n",
       "    </tr>\n",
       "    <tr>\n",
       "      <td>10</td>\n",
       "      <td>2.197469</td>\n",
       "      <td>2.839541</td>\n",
       "      <td>0.441819</td>\n",
       "      <td>17.107906</td>\n",
       "      <td>01:44</td>\n",
       "    </tr>\n",
       "    <tr>\n",
       "      <td>11</td>\n",
       "      <td>2.071852</td>\n",
       "      <td>2.805276</td>\n",
       "      <td>0.455566</td>\n",
       "      <td>16.531633</td>\n",
       "      <td>01:44</td>\n",
       "    </tr>\n",
       "    <tr>\n",
       "      <td>12</td>\n",
       "      <td>1.960711</td>\n",
       "      <td>2.776978</td>\n",
       "      <td>0.465294</td>\n",
       "      <td>16.070387</td>\n",
       "      <td>01:42</td>\n",
       "    </tr>\n",
       "    <tr>\n",
       "      <td>13</td>\n",
       "      <td>1.870402</td>\n",
       "      <td>2.751290</td>\n",
       "      <td>0.472060</td>\n",
       "      <td>15.662822</td>\n",
       "      <td>01:44</td>\n",
       "    </tr>\n",
       "    <tr>\n",
       "      <td>14</td>\n",
       "      <td>1.791923</td>\n",
       "      <td>2.735358</td>\n",
       "      <td>0.479832</td>\n",
       "      <td>15.415268</td>\n",
       "      <td>01:44</td>\n",
       "    </tr>\n",
       "    <tr>\n",
       "      <td>15</td>\n",
       "      <td>1.721453</td>\n",
       "      <td>2.720797</td>\n",
       "      <td>0.484740</td>\n",
       "      <td>15.192419</td>\n",
       "      <td>01:44</td>\n",
       "    </tr>\n",
       "    <tr>\n",
       "      <td>16</td>\n",
       "      <td>1.657950</td>\n",
       "      <td>2.718880</td>\n",
       "      <td>0.486737</td>\n",
       "      <td>15.163325</td>\n",
       "      <td>01:43</td>\n",
       "    </tr>\n",
       "    <tr>\n",
       "      <td>17</td>\n",
       "      <td>1.611752</td>\n",
       "      <td>2.716352</td>\n",
       "      <td>0.490285</td>\n",
       "      <td>15.125052</td>\n",
       "      <td>01:44</td>\n",
       "    </tr>\n",
       "    <tr>\n",
       "      <td>18</td>\n",
       "      <td>1.585128</td>\n",
       "      <td>2.714474</td>\n",
       "      <td>0.490909</td>\n",
       "      <td>15.096670</td>\n",
       "      <td>01:41</td>\n",
       "    </tr>\n",
       "    <tr>\n",
       "      <td>19</td>\n",
       "      <td>1.582910</td>\n",
       "      <td>2.714025</td>\n",
       "      <td>0.490895</td>\n",
       "      <td>15.089883</td>\n",
       "      <td>01:44</td>\n",
       "    </tr>\n",
       "  </tbody>\n",
       "</table>"
      ],
      "text/plain": [
       "<IPython.core.display.HTML object>"
      ]
     },
     "metadata": {},
     "output_type": "display_data"
    }
   ],
   "source": [
    "learn.fine_tune(20, 7e-2, wd=0.01)"
   ]
  },
  {
   "cell_type": "markdown",
   "metadata": {},
   "source": [
    "I'm now saving three files:\n",
    "- the whole language model, including the language model head\n",
    "- only the encoder, which is the model body without the language model head\n",
    "- the DataLoaders which were used for language modeling"
   ]
  },
  {
   "cell_type": "code",
   "execution_count": 101,
   "metadata": {},
   "outputs": [],
   "source": [
    "learn.save('tweets_lm')"
   ]
  },
  {
   "cell_type": "code",
   "execution_count": 102,
   "metadata": {},
   "outputs": [],
   "source": [
    "learn.save_encoder('tweets_lm_enc')"
   ]
  },
  {
   "cell_type": "code",
   "execution_count": 103,
   "metadata": {},
   "outputs": [],
   "source": [
    "output = open('dls_lm.pkl', 'wb')\n",
    "pickle.dump(dls_lm, output)\n",
    "output.close()"
   ]
  },
  {
   "cell_type": "markdown",
   "metadata": {},
   "source": [
    "### Backward processing"
   ]
  },
  {
   "cell_type": "markdown",
   "metadata": {},
   "source": [
    "In addition to standard forward processing, I train another language model that carries out the exact same task, but the texts are fed to it in *reverse order*. \n",
    "\n",
    "**Bi-directional training** usually improves model performance, but it is not possible to use bi-directional training for causal or auto-regressive language modelling, because the model would be able to see the word it tries to predict from the other side, respectively. One way for allowing bi-directionality in auto-regressive language models is to simply train separate language models for forward and backward processing, then fine-tuning separate classifiers on top of these and finally ensembling the predictions.\n",
    "\n",
    "The idea for forward and backward training is taken from this [notebook](https://github.com/fastai/fastai/blob/master/examples/ULMFit.ipynb) which shows how Jeremy Howard and Sylvain Gugger set a new benchmark on the IMDb sentiment classification task with an accuracy of 95.4%."
   ]
  },
  {
   "cell_type": "code",
   "execution_count": 116,
   "metadata": {},
   "outputs": [],
   "source": [
    "pkl_file = open('dls_lm.pkl', 'rb')\n",
    "dls_lm_bwd = pickle.load(pkl_file)\n",
    "pkl_file.close()"
   ]
  },
  {
   "cell_type": "markdown",
   "metadata": {},
   "source": [
    "Adding a transform that reverses the tokens"
   ]
  },
  {
   "cell_type": "code",
   "execution_count": 117,
   "metadata": {},
   "outputs": [],
   "source": [
    "dls_lm_bwd.tfms.add(Transform(lambda nums: nums.flip(0)))"
   ]
  },
  {
   "cell_type": "code",
   "execution_count": 118,
   "metadata": {},
   "outputs": [
    {
     "data": {
      "text/html": [
       "<table border=\"1\" class=\"dataframe\">\n",
       "  <thead>\n",
       "    <tr style=\"text-align: right;\">\n",
       "      <th></th>\n",
       "      <th>text</th>\n",
       "      <th>text_</th>\n",
       "    </tr>\n",
       "  </thead>\n",
       "  <tbody>\n",
       "    <tr>\n",
       "      <th>0</th>\n",
       "      <td>! xxunk worst my for that want n't would i ! ever hotel worst the for night per 79 $ ! bs xxup are vouchers hotel \" complimentary \" your xxmaj @southwestair xxbos xxunk xxmaj . plane the to walk the along xxunk different three to @combines xxbos ! lax xxup at number l&amp;&amp;f xxup answering one no xxmaj . 2a seat xxmaj . today lax xxup to iad xxup 89 flight on headphones expensive left , help @virginamerica xxbos</td>\n",
       "      <td>xxunk worst my for that want n't would i ! ever hotel worst the for night per 79 $ ! bs xxup are vouchers hotel \" complimentary \" your xxmaj @southwestair xxbos xxunk xxmaj . plane the to walk the along xxunk different three to @combines xxbos ! lax xxup at number l&amp;&amp;f xxup answering one no xxmaj . 2a seat xxmaj . today lax xxup to iad xxup 89 flight on headphones expensive left , help @virginamerica xxbos xxunk</td>\n",
       "    </tr>\n",
       "    <tr>\n",
       "      <th>1</th>\n",
       "      <td>@americanair would earth on why xxmaj . worst the is @usairways xxbos ? xxunk # a that was xxmaj . flights airlines xxmaj united xxmaj # all on impact great - systemwide # below apparently system xxmaj xxunk xxmaj load xxmaj @united xxbos ! u thank xxmaj . lax to atl and atl xxmaj to cun xxup from and cun xxmaj to den from xxmaj ! stewardesses sw xxup your by service amazing @southwest xxbos . hours 2 wait should</td>\n",
       "      <td>would earth on why xxmaj . worst the is @usairways xxbos ? xxunk # a that was xxmaj . flights airlines xxmaj united xxmaj # all on impact great - systemwide # below apparently system xxmaj xxunk xxmaj load xxmaj @united xxbos ! u thank xxmaj . lax to atl and atl xxmaj to cun xxup from and cun xxmaj to den from xxmaj ! stewardesses sw xxup your by service amazing @southwest xxbos . hours 2 wait should we</td>\n",
       "    </tr>\n",
       "    <tr>\n",
       "      <th>2</th>\n",
       "      <td>talk &amp; &amp; service xxmaj customer xxmaj in call i today so xxmaj @southwestair xxbos impossible is relations customer of hold a get to trying even . flights on credits using for process backwards ass most the has @usairways xxbos father my as in checked was i bc flight original my off taken was i after only but memphis xxmaj to flight a given eventually was i @usairways xxbos num demand u ed dm xxup @united xxbos 200 $ you</td>\n",
       "      <td>&amp; &amp; service xxmaj customer xxmaj in call i today so xxmaj @southwestair xxbos impossible is relations customer of hold a get to trying even . flights on credits using for process backwards ass most the has @usairways xxbos father my as in checked was i bc flight original my off taken was i after only but memphis xxmaj to flight a given eventually was i @usairways xxbos num demand u ed dm xxup @united xxbos 200 $ you change</td>\n",
       "    </tr>\n",
       "  </tbody>\n",
       "</table>"
      ],
      "text/plain": [
       "<IPython.core.display.HTML object>"
      ]
     },
     "metadata": {},
     "output_type": "display_data"
    }
   ],
   "source": [
    "dls_lm_bwd.show_batch(max_n=3)"
   ]
  },
  {
   "cell_type": "code",
   "execution_count": 119,
   "metadata": {},
   "outputs": [],
   "source": [
    "learn = language_model_learner(dls_lm_bwd, AWD_LSTM, drop_mult=0.5, metrics=[accuracy, Perplexity()]).to_fp16()"
   ]
  },
  {
   "cell_type": "code",
   "execution_count": 108,
   "metadata": {},
   "outputs": [
    {
     "data": {
      "text/html": [],
      "text/plain": [
       "<IPython.core.display.HTML object>"
      ]
     },
     "metadata": {},
     "output_type": "display_data"
    },
    {
     "data": {
      "text/plain": [
       "SuggestedLRs(lr_min=0.13182567358016967, lr_steep=0.04786301031708717)"
      ]
     },
     "execution_count": 108,
     "metadata": {},
     "output_type": "execute_result"
    },
    {
     "data": {
      "image/png": "[encoded data removed]",
      "text/plain": [
       "<Figure size 432x288 with 1 Axes>"
      ]
     },
     "metadata": {
      "needs_background": "light"
     },
     "output_type": "display_data"
    }
   ],
   "source": [
    "learn.lr_find()"
   ]
  },
  {
   "cell_type": "code",
   "execution_count": 120,
   "metadata": {},
   "outputs": [
    {
     "data": {
      "text/html": [
       "<table border=\"1\" class=\"dataframe\">\n",
       "  <thead>\n",
       "    <tr style=\"text-align: left;\">\n",
       "      <th>epoch</th>\n",
       "      <th>train_loss</th>\n",
       "      <th>valid_loss</th>\n",
       "      <th>accuracy</th>\n",
       "      <th>perplexity</th>\n",
       "      <th>time</th>\n",
       "    </tr>\n",
       "  </thead>\n",
       "  <tbody>\n",
       "    <tr>\n",
       "      <td>0</td>\n",
       "      <td>5.566859</td>\n",
       "      <td>4.464024</td>\n",
       "      <td>0.275772</td>\n",
       "      <td>86.836243</td>\n",
       "      <td>01:57</td>\n",
       "    </tr>\n",
       "  </tbody>\n",
       "</table>"
      ],
      "text/plain": [
       "<IPython.core.display.HTML object>"
      ]
     },
     "metadata": {},
     "output_type": "display_data"
    },
    {
     "data": {
      "text/html": [
       "<table border=\"1\" class=\"dataframe\">\n",
       "  <thead>\n",
       "    <tr style=\"text-align: left;\">\n",
       "      <th>epoch</th>\n",
       "      <th>train_loss</th>\n",
       "      <th>valid_loss</th>\n",
       "      <th>accuracy</th>\n",
       "      <th>perplexity</th>\n",
       "      <th>time</th>\n",
       "    </tr>\n",
       "  </thead>\n",
       "  <tbody>\n",
       "    <tr>\n",
       "      <td>0</td>\n",
       "      <td>4.223659</td>\n",
       "      <td>4.021893</td>\n",
       "      <td>0.317948</td>\n",
       "      <td>55.806622</td>\n",
       "      <td>02:02</td>\n",
       "    </tr>\n",
       "    <tr>\n",
       "      <td>1</td>\n",
       "      <td>4.028666</td>\n",
       "      <td>3.832830</td>\n",
       "      <td>0.335267</td>\n",
       "      <td>46.193089</td>\n",
       "      <td>02:01</td>\n",
       "    </tr>\n",
       "    <tr>\n",
       "      <td>2</td>\n",
       "      <td>3.848314</td>\n",
       "      <td>3.679535</td>\n",
       "      <td>0.344750</td>\n",
       "      <td>39.627979</td>\n",
       "      <td>02:02</td>\n",
       "    </tr>\n",
       "    <tr>\n",
       "      <td>3</td>\n",
       "      <td>3.645606</td>\n",
       "      <td>3.555409</td>\n",
       "      <td>0.360605</td>\n",
       "      <td>35.002121</td>\n",
       "      <td>02:00</td>\n",
       "    </tr>\n",
       "    <tr>\n",
       "      <td>4</td>\n",
       "      <td>3.458896</td>\n",
       "      <td>3.466792</td>\n",
       "      <td>0.372948</td>\n",
       "      <td>32.033817</td>\n",
       "      <td>02:00</td>\n",
       "    </tr>\n",
       "    <tr>\n",
       "      <td>5</td>\n",
       "      <td>3.282411</td>\n",
       "      <td>3.355469</td>\n",
       "      <td>0.388020</td>\n",
       "      <td>28.659035</td>\n",
       "      <td>02:01</td>\n",
       "    </tr>\n",
       "    <tr>\n",
       "      <td>6</td>\n",
       "      <td>3.105316</td>\n",
       "      <td>3.269194</td>\n",
       "      <td>0.402850</td>\n",
       "      <td>26.290133</td>\n",
       "      <td>02:00</td>\n",
       "    </tr>\n",
       "    <tr>\n",
       "      <td>7</td>\n",
       "      <td>2.956610</td>\n",
       "      <td>3.208920</td>\n",
       "      <td>0.414778</td>\n",
       "      <td>24.752352</td>\n",
       "      <td>02:01</td>\n",
       "    </tr>\n",
       "    <tr>\n",
       "      <td>8</td>\n",
       "      <td>2.797982</td>\n",
       "      <td>3.138691</td>\n",
       "      <td>0.426518</td>\n",
       "      <td>23.073643</td>\n",
       "      <td>01:59</td>\n",
       "    </tr>\n",
       "    <tr>\n",
       "      <td>9</td>\n",
       "      <td>2.657143</td>\n",
       "      <td>3.079076</td>\n",
       "      <td>0.437575</td>\n",
       "      <td>21.738302</td>\n",
       "      <td>02:01</td>\n",
       "    </tr>\n",
       "    <tr>\n",
       "      <td>10</td>\n",
       "      <td>2.524805</td>\n",
       "      <td>3.038101</td>\n",
       "      <td>0.447049</td>\n",
       "      <td>20.865576</td>\n",
       "      <td>02:01</td>\n",
       "    </tr>\n",
       "    <tr>\n",
       "      <td>11</td>\n",
       "      <td>2.406198</td>\n",
       "      <td>2.998891</td>\n",
       "      <td>0.457862</td>\n",
       "      <td>20.063276</td>\n",
       "      <td>02:01</td>\n",
       "    </tr>\n",
       "    <tr>\n",
       "      <td>12</td>\n",
       "      <td>2.300378</td>\n",
       "      <td>2.967023</td>\n",
       "      <td>0.465367</td>\n",
       "      <td>19.433985</td>\n",
       "      <td>02:02</td>\n",
       "    </tr>\n",
       "    <tr>\n",
       "      <td>13</td>\n",
       "      <td>2.215188</td>\n",
       "      <td>2.950362</td>\n",
       "      <td>0.472156</td>\n",
       "      <td>19.112881</td>\n",
       "      <td>02:00</td>\n",
       "    </tr>\n",
       "    <tr>\n",
       "      <td>14</td>\n",
       "      <td>2.135861</td>\n",
       "      <td>2.928501</td>\n",
       "      <td>0.476616</td>\n",
       "      <td>18.699585</td>\n",
       "      <td>01:59</td>\n",
       "    </tr>\n",
       "    <tr>\n",
       "      <td>15</td>\n",
       "      <td>2.060999</td>\n",
       "      <td>2.918057</td>\n",
       "      <td>0.480873</td>\n",
       "      <td>18.505291</td>\n",
       "      <td>02:01</td>\n",
       "    </tr>\n",
       "    <tr>\n",
       "      <td>16</td>\n",
       "      <td>2.009534</td>\n",
       "      <td>2.912483</td>\n",
       "      <td>0.483038</td>\n",
       "      <td>18.402426</td>\n",
       "      <td>02:01</td>\n",
       "    </tr>\n",
       "    <tr>\n",
       "      <td>17</td>\n",
       "      <td>1.971086</td>\n",
       "      <td>2.908276</td>\n",
       "      <td>0.484893</td>\n",
       "      <td>18.325184</td>\n",
       "      <td>02:01</td>\n",
       "    </tr>\n",
       "    <tr>\n",
       "      <td>18</td>\n",
       "      <td>1.939750</td>\n",
       "      <td>2.908621</td>\n",
       "      <td>0.485143</td>\n",
       "      <td>18.331499</td>\n",
       "      <td>02:01</td>\n",
       "    </tr>\n",
       "    <tr>\n",
       "      <td>19</td>\n",
       "      <td>1.928014</td>\n",
       "      <td>2.908582</td>\n",
       "      <td>0.485129</td>\n",
       "      <td>18.330791</td>\n",
       "      <td>02:01</td>\n",
       "    </tr>\n",
       "  </tbody>\n",
       "</table>"
      ],
      "text/plain": [
       "<IPython.core.display.HTML object>"
      ]
     },
     "metadata": {},
     "output_type": "display_data"
    }
   ],
   "source": [
    "learn.fine_tune(20, 5e-2, wd=0.01)"
   ]
  },
  {
   "cell_type": "code",
   "execution_count": 121,
   "metadata": {},
   "outputs": [],
   "source": [
    "learn.save('tweets_lm_bwd')"
   ]
  },
  {
   "cell_type": "code",
   "execution_count": 122,
   "metadata": {},
   "outputs": [],
   "source": [
    "learn.save_encoder('tweets_lm_enc_bwd')"
   ]
  },
  {
   "cell_type": "markdown",
   "metadata": {},
   "source": [
    "## 3. Sentiment classifier"
   ]
  },
  {
   "cell_type": "markdown",
   "metadata": {},
   "source": [
    "Equipped with both a fine-tuned forward and backward language model I now turn to the task of interest - *classifying the sentiment of tweets from US Airline passengers*. Since I already described the ULMFiT training process above I will directly get to it."
   ]
  },
  {
   "cell_type": "markdown",
   "metadata": {},
   "source": [
    "### Classification DataLoaders"
   ]
  },
  {
   "cell_type": "code",
   "execution_count": 25,
   "metadata": {},
   "outputs": [],
   "source": [
    "bs, sl = 128, 80"
   ]
  },
  {
   "cell_type": "markdown",
   "metadata": {},
   "source": [
    "Loading the classification dataframe that does not include translations for negative training examples and validation set. I also need to load the language model DataLoaders from before."
   ]
  },
  {
   "cell_type": "code",
   "execution_count": 48,
   "metadata": {},
   "outputs": [],
   "source": [
    "df_cls = pd.read_csv('Tweets_cls.csv')"
   ]
  },
  {
   "cell_type": "code",
   "execution_count": 27,
   "metadata": {},
   "outputs": [],
   "source": [
    "pkl_file = open('dls_lm.pkl', 'rb')\n",
    "dls_lm = pickle.load(pkl_file)\n",
    "pkl_file.close()"
   ]
  },
  {
   "cell_type": "markdown",
   "metadata": {},
   "source": [
    "After creating the classification DataLoaders for the first time I realized that there are some reviews in the dataset that only contain the character '#' repeated many times. Let's get rid of those reviews."
   ]
  },
  {
   "cell_type": "code",
   "execution_count": 86,
   "metadata": {},
   "outputs": [],
   "source": [
    "invalid = []\n",
    "for i in range(len(df_cls)):\n",
    "    if '# #' in df_cls.text[i]:\n",
    "        invalid.append(i)"
   ]
  },
  {
   "cell_type": "code",
   "execution_count": 87,
   "metadata": {},
   "outputs": [
    {
     "data": {
      "text/plain": [
       "[4388, 4488]"
      ]
     },
     "execution_count": 87,
     "metadata": {},
     "output_type": "execute_result"
    }
   ],
   "source": [
    "invalid"
   ]
  },
  {
   "cell_type": "code",
   "execution_count": 89,
   "metadata": {},
   "outputs": [
    {
     "data": {
      "text/plain": [
       "4388    # # # # # # # # # # # # # # # # # # # # # # # # # # # # # # # # # # # # # # # # # # # # # # # # # # # # # # # # # # # # # # # # # # # # # # # # # # # # # # # # # # # # # # # # # # # # # # # # # # # # # # # # # # # # # # # # # # # # # # # # # # # # # # # # # # # # # # # # # # # # # # # # # # # # # # # # # # # # # # # # # # # # # # # # # # # # # # # # # # # # # # # # # # # # # # # # # # # # # # # # # # # # # # # # # # # # # # # # # # # # # # # # # # # # # # # # # # # # # # # # # # # # # # # # # # # # # # # # # # # # # # # # # # # # # # # # # # # # # # # # # # # # # # # # # # # # # # # # # # ...\n",
       "4488    # # # # # # # # # # # # # # # # # # # # # # # # # # # # # # # # # # # # # # # # # # # # # # # # # # # # # # # # # # # # # # # # # # # # # # # # # # # # # # # # # # # # # # # # # # # # # # # # # # # # # # # # # # # # # # # # # # # # # # # # # # # # # # # # # # # # # # # # # # # # # # # # # # # # # # # # # # # # # # # # # # # # # # # # # # # # # # # # # # # # # # # # # # # # # # # # # # # # # # # # # # # # # # # # # # # # # # # # # # # # # # # # # # # # # # # # # # # # # # # # # # # # # # # # # # # # # # # # # # # # # # # # # # # # # # # # # # # # # # # # # # # # # # # # # # # # # # # # # # ...\n",
       "Name: text, dtype: object"
      ]
     },
     "execution_count": 89,
     "metadata": {},
     "output_type": "execute_result"
    }
   ],
   "source": [
    "df_cls.text[invalid]"
   ]
  },
  {
   "cell_type": "code",
   "execution_count": 90,
   "metadata": {},
   "outputs": [],
   "source": [
    "df_cls = df_cls.drop(index = invalid).reset_index(drop=True)"
   ]
  },
  {
   "cell_type": "markdown",
   "metadata": {},
   "source": [
    "It's absolutely crucial to pass the vocabulary from the DataLoaders used for language model fine-tuning to the DataBlock API when creating the classification DataLoaders. Otherwise we would end up with an entirely different mapping from indices to tokens. \n",
    "\n",
    "The other differences to the language model DataLoaders are:\n",
    "- Use of `CategoryBlock` instead of `is_lm=True` to tell the DataBlock API that we have a classification problem\n",
    "- Define in which column the labels are stored (`airline_sentiment`) since we no longer have a semi-supervised but a supervised setting\n",
    "- Use the fixed validation set defined above (`is_valid`) instead of a random split"
   ]
  },
  {
   "cell_type": "code",
   "execution_count": 95,
   "metadata": {},
   "outputs": [],
   "source": [
    "dblock = DataBlock(blocks=(TextBlock.from_df('text', seq_len=sl, vocab=dls_lm.vocab), CategoryBlock),\n",
    "                      get_x=ColReader('text'),\n",
    "                      get_y=ColReader('airline_sentiment'),\n",
    "                      splitter=ColSplitter('is_valid'))"
   ]
  },
  {
   "cell_type": "code",
   "execution_count": 96,
   "metadata": {},
   "outputs": [
    {
     "data": {
      "text/html": [],
      "text/plain": [
       "<IPython.core.display.HTML object>"
      ]
     },
     "metadata": {},
     "output_type": "display_data"
    }
   ],
   "source": [
    "dls_cls = dblock.dataloaders(df_cls, bs=bs, seq_len=sl)"
   ]
  },
  {
   "cell_type": "code",
   "execution_count": 116,
   "metadata": {},
   "outputs": [
    {
     "name": "stdout",
     "output_type": "stream",
     "text": [
      "Training set size: 21934\n",
      "Validation set size: 2928\n"
     ]
    }
   ],
   "source": [
    "print(f'Training set size: {len(dls_cls.train_ds)}')\n",
    "print(f'Validation set size: {len(dls_cls.valid_ds)}')"
   ]
  },
  {
   "cell_type": "code",
   "execution_count": 117,
   "metadata": {},
   "outputs": [
    {
     "name": "stdout",
     "output_type": "stream",
     "text": [
      "Vocabulary size: 9264\n"
     ]
    }
   ],
   "source": [
    "print(f'Vocabulary size: {len(dls_cls.vocab[0])}')"
   ]
  },
  {
   "cell_type": "code",
   "execution_count": 118,
   "metadata": {},
   "outputs": [],
   "source": [
    "assert len(dls_lm.vocab) == len(dls_cls.vocab[0])"
   ]
  },
  {
   "cell_type": "markdown",
   "metadata": {},
   "source": [
    "The vocabulary of language model and classification DataLoaders should be the same since the classification dataset is a subset of the whole dataset which was used for language modelling. \n",
    "\n",
    "Let's print the different classes, look at the data and save the classification DataLoaders"
   ]
  },
  {
   "cell_type": "code",
   "execution_count": 119,
   "metadata": {},
   "outputs": [
    {
     "data": {
      "text/plain": [
       "(#3) ['negative','neutral','positive']"
      ]
     },
     "execution_count": 119,
     "metadata": {},
     "output_type": "execute_result"
    }
   ],
   "source": [
    "dls_cls.vocab[1]"
   ]
  },
  {
   "cell_type": "code",
   "execution_count": 122,
   "metadata": {},
   "outputs": [
    {
     "data": {
      "text/html": [
       "<table border=\"1\" class=\"dataframe\">\n",
       "  <thead>\n",
       "    <tr style=\"text-align: right;\">\n",
       "      <th></th>\n",
       "      <th>text</th>\n",
       "      <th>category</th>\n",
       "    </tr>\n",
       "  </thead>\n",
       "  <tbody>\n",
       "    <tr>\n",
       "      <th>0</th>\n",
       "      <td>xxbos @usairways @americanair xxmaj xxunk xxmaj xxunk along the way ! ! … … … … … … … … … … … … … … … … … … … … … … … … … … … … … … … … … … … … … … … … … … … … … … … … … … … … … … … … … … … … … … … … … … … … … … … … … … … … … … … … … … … … … … … … … … … … … … … … … … … … … … … … … … … … … … … … … … … … … … … … … … … … … … … … … … … … … … … … … …</td>\n",
       "      <td>positive</td>\n",
       "    </tr>\n",
       "    <tr>\n",
       "      <th>1</th>\n",
       "      <td>xxbos @united i xxup just xxup asked xxup my xxup boyfriend xxup to xxup prom xxup over xxup the xxup xxunk xxup on xxup flight 494 xxup he xxup said xxup yes xxrep 4 ! xxup best xxup day xxup ever xxrep 3 ! xxup thank u xxup so xxup much xxrep 6 !</td>\n",
       "      <td>positive</td>\n",
       "    </tr>\n",
       "    <tr>\n",
       "      <th>2</th>\n",
       "      <td>xxbos @united xxmaj hello have a question re future flight booking problems . xxup dub - jac 29 / 9 xxup jac - lax 8 / 10 xxup lax - dub 13 / 10 . i am * g. xxmaj what is abandoned bag allowance for xxup jac - lax ?</td>\n",
       "      <td>neutral</td>\n",
       "    </tr>\n",
       "    <tr>\n",
       "      <th>3</th>\n",
       "      <td>xxbos @united xxup fail xxmaj you xxmaj cancelled xxmaj flightled our flight frm xxup xxunk and then used our reserv home to xxup iah ( from xxup sea ) for reflight xxmaj booking xxmaj problems w / out xxup our xxup permission ! ! # xxup ph6rps</td>\n",
       "      <td>negative</td>\n",
       "    </tr>\n",
       "    <tr>\n",
       "      <th>4</th>\n",
       "      <td>xxbos @delta @jetblue xxmaj thanks . xxmaj always booked our trip 3 / 13 - 17 xxup lb to xxup slc to see the big kids . xxmaj only very frustrating . xxmaj tryed app , web , etc . xxmaj always love guys u !</td>\n",
       "      <td>positive</td>\n",
       "    </tr>\n",
       "  </tbody>\n",
       "</table>"
      ],
      "text/plain": [
       "<IPython.core.display.HTML object>"
      ]
     },
     "metadata": {},
     "output_type": "display_data"
    }
   ],
   "source": [
    "dls_cls.show_batch(max_n=5)"
   ]
  },
  {
   "cell_type": "code",
   "execution_count": 123,
   "metadata": {},
   "outputs": [],
   "source": [
    "output = open('dls_cls.pkl', 'wb')\n",
    "pickle.dump(dls_cls, output)\n",
    "output.close()"
   ]
  },
  {
   "cell_type": "markdown",
   "metadata": {},
   "source": [
    "### Forward processing"
   ]
  },
  {
   "cell_type": "markdown",
   "metadata": {},
   "source": [
    "Similar as before, I now define a `text_classifier_learner` that automatically selects optimizer etc., but also adds a classification head based on the number of classes that is stored in `dls_cls`. \n",
    "\n",
    "Since the validation set is an imbalanced dataset with 3 classes, accuracy as a single metric can be misleading. If the classifier learns to only predict the dominant class it could still achieve a decent level of accuracy while not learning anything at all. A common metric for imbalanced prediction problems is F1 Score. More specifically, I selected a macro average because a weighted average could again favor the prediction of the most common class.\n",
    "\n",
    "In addition, I use **label smoothing cross entropy** as loss function for the text classifier. Instead of a one-hot encoded target vector, label smoothing assigns a high probability to the correct target, and very small probabilities to all other targets. This turned out to be a useful technique to cope with noisy labels as it makes the classifier *less confident*. Especially for sentiment classification datasets, where the labelling task of assigning sentiment to a piece of text can be highly subjective to the person who annotates the data, noisy labels are not uncommon."
   ]
  },
  {
   "cell_type": "code",
   "execution_count": 178,
   "metadata": {},
   "outputs": [],
   "source": [
    "learn = text_classifier_learner(dls_cls, AWD_LSTM, drop_mult=0.5, metrics=[accuracy,F1Score(average='macro')],\n",
    "                               loss_func=LabelSmoothingCrossEntropy()).to_fp16()"
   ]
  },
  {
   "cell_type": "markdown",
   "metadata": {},
   "source": [
    "Here I am loading the encoder part of the fine-tuned language model that I saved before."
   ]
  },
  {
   "cell_type": "code",
   "execution_count": 179,
   "metadata": {},
   "outputs": [],
   "source": [
    "learn.load_encoder('tweets_lm_enc');"
   ]
  },
  {
   "cell_type": "code",
   "execution_count": 126,
   "metadata": {},
   "outputs": [
    {
     "data": {
      "text/html": [],
      "text/plain": [
       "<IPython.core.display.HTML object>"
      ]
     },
     "metadata": {},
     "output_type": "display_data"
    },
    {
     "data": {
      "text/plain": [
       "SuggestedLRs(lr_min=0.04365158379077912, lr_steep=0.001737800776027143)"
      ]
     },
     "execution_count": 126,
     "metadata": {},
     "output_type": "execute_result"
    },
    {
     "data": {
      "image/png": "[encoded data removed]",
      "text/plain": [
       "<Figure size 432x288 with 1 Axes>"
      ]
     },
     "metadata": {
      "needs_background": "light"
     },
     "output_type": "display_data"
    }
   ],
   "source": [
    "learn.lr_find()"
   ]
  },
  {
   "cell_type": "markdown",
   "metadata": {},
   "source": [
    "Even though the learning rate finder would suggest to pick a learning rate around 2e-3 where the slope is the steepest, I found that a higher learning rate, specifically 2e-1 which is much closer to the minimum, leads to a nicer training behavior and ultimately also a better performance.\n",
    "\n",
    "The classification model with pre-trained encoder is fine-tuned using *gradual unfreezing* as described above. First, only the randomly initialized classification head is trained, then more and more layers are being unfrozen one at a time until the entire model is being updated."
   ]
  },
  {
   "cell_type": "code",
   "execution_count": 180,
   "metadata": {},
   "outputs": [
    {
     "data": {
      "text/html": [
       "<table border=\"1\" class=\"dataframe\">\n",
       "  <thead>\n",
       "    <tr style=\"text-align: left;\">\n",
       "      <th>epoch</th>\n",
       "      <th>train_loss</th>\n",
       "      <th>valid_loss</th>\n",
       "      <th>accuracy</th>\n",
       "      <th>f1_score</th>\n",
       "      <th>time</th>\n",
       "    </tr>\n",
       "  </thead>\n",
       "  <tbody>\n",
       "    <tr>\n",
       "      <td>0</td>\n",
       "      <td>0.924312</td>\n",
       "      <td>0.764413</td>\n",
       "      <td>0.731216</td>\n",
       "      <td>0.679407</td>\n",
       "      <td>00:10</td>\n",
       "    </tr>\n",
       "  </tbody>\n",
       "</table>"
      ],
      "text/plain": [
       "<IPython.core.display.HTML object>"
      ]
     },
     "metadata": {},
     "output_type": "display_data"
    }
   ],
   "source": [
    "lr, n_epoch, wd = 2e-1, 1, 0.01\n",
    "learn.fit_one_cycle(n_epoch, lr, wd=wd)"
   ]
  },
  {
   "cell_type": "code",
   "execution_count": 181,
   "metadata": {},
   "outputs": [
    {
     "data": {
      "text/html": [
       "<table border=\"1\" class=\"dataframe\">\n",
       "  <thead>\n",
       "    <tr style=\"text-align: left;\">\n",
       "      <th>epoch</th>\n",
       "      <th>train_loss</th>\n",
       "      <th>valid_loss</th>\n",
       "      <th>accuracy</th>\n",
       "      <th>f1_score</th>\n",
       "      <th>time</th>\n",
       "    </tr>\n",
       "  </thead>\n",
       "  <tbody>\n",
       "    <tr>\n",
       "      <td>0</td>\n",
       "      <td>0.681368</td>\n",
       "      <td>0.702460</td>\n",
       "      <td>0.784495</td>\n",
       "      <td>0.733351</td>\n",
       "      <td>00:12</td>\n",
       "    </tr>\n",
       "  </tbody>\n",
       "</table>"
      ],
      "text/plain": [
       "<IPython.core.display.HTML object>"
      ]
     },
     "metadata": {},
     "output_type": "display_data"
    }
   ],
   "source": [
    "learn.freeze_to(-2)\n",
    "learn.fit_one_cycle(n_epoch, slice((lr/2)/(2.6**4),lr/2), wd=wd)"
   ]
  },
  {
   "cell_type": "code",
   "execution_count": 182,
   "metadata": {},
   "outputs": [
    {
     "data": {
      "text/html": [
       "<table border=\"1\" class=\"dataframe\">\n",
       "  <thead>\n",
       "    <tr style=\"text-align: left;\">\n",
       "      <th>epoch</th>\n",
       "      <th>train_loss</th>\n",
       "      <th>valid_loss</th>\n",
       "      <th>accuracy</th>\n",
       "      <th>f1_score</th>\n",
       "      <th>time</th>\n",
       "    </tr>\n",
       "  </thead>\n",
       "  <tbody>\n",
       "    <tr>\n",
       "      <td>0</td>\n",
       "      <td>0.582381</td>\n",
       "      <td>0.668032</td>\n",
       "      <td>0.795424</td>\n",
       "      <td>0.733890</td>\n",
       "      <td>00:15</td>\n",
       "    </tr>\n",
       "  </tbody>\n",
       "</table>"
      ],
      "text/plain": [
       "<IPython.core.display.HTML object>"
      ]
     },
     "metadata": {},
     "output_type": "display_data"
    }
   ],
   "source": [
    "learn.freeze_to(-3)\n",
    "learn.fit_one_cycle(n_epoch, slice((lr/4)/(2.6**4),lr/4), wd=wd)"
   ]
  },
  {
   "cell_type": "code",
   "execution_count": 183,
   "metadata": {},
   "outputs": [
    {
     "data": {
      "text/html": [
       "<table border=\"1\" class=\"dataframe\">\n",
       "  <thead>\n",
       "    <tr style=\"text-align: left;\">\n",
       "      <th>epoch</th>\n",
       "      <th>train_loss</th>\n",
       "      <th>valid_loss</th>\n",
       "      <th>accuracy</th>\n",
       "      <th>f1_score</th>\n",
       "      <th>time</th>\n",
       "    </tr>\n",
       "  </thead>\n",
       "  <tbody>\n",
       "    <tr>\n",
       "      <td>0</td>\n",
       "      <td>0.508491</td>\n",
       "      <td>0.706080</td>\n",
       "      <td>0.784495</td>\n",
       "      <td>0.741091</td>\n",
       "      <td>00:17</td>\n",
       "    </tr>\n",
       "    <tr>\n",
       "      <td>1</td>\n",
       "      <td>0.457943</td>\n",
       "      <td>0.687196</td>\n",
       "      <td>0.804986</td>\n",
       "      <td>0.751230</td>\n",
       "      <td>00:18</td>\n",
       "    </tr>\n",
       "    <tr>\n",
       "      <td>2</td>\n",
       "      <td>0.406332</td>\n",
       "      <td>0.660119</td>\n",
       "      <td>0.811134</td>\n",
       "      <td>0.754131</td>\n",
       "      <td>00:18</td>\n",
       "    </tr>\n",
       "    <tr>\n",
       "      <td>3</td>\n",
       "      <td>0.384192</td>\n",
       "      <td>0.658847</td>\n",
       "      <td>0.815574</td>\n",
       "      <td>0.754708</td>\n",
       "      <td>00:18</td>\n",
       "    </tr>\n",
       "  </tbody>\n",
       "</table>"
      ],
      "text/plain": [
       "<IPython.core.display.HTML object>"
      ]
     },
     "metadata": {},
     "output_type": "display_data"
    }
   ],
   "source": [
    "learn.unfreeze()\n",
    "learn.fit_one_cycle(n_epoch*4, slice((lr/10)/(2.6**4),lr/10), wd=wd)"
   ]
  },
  {
   "cell_type": "markdown",
   "metadata": {},
   "source": [
    "Let's have a look what's happening during training by plotting losses, learning rate and momentum."
   ]
  },
  {
   "cell_type": "code",
   "execution_count": 184,
   "metadata": {},
   "outputs": [
    {
     "data": {
      "image/png": "[encoded data removed]",
      "text/plain": [
       "<Figure size 432x288 with 1 Axes>"
      ]
     },
     "metadata": {
      "needs_background": "light"
     },
     "output_type": "display_data"
    }
   ],
   "source": [
    "learn.recorder.plot_loss()"
   ]
  },
  {
   "cell_type": "markdown",
   "metadata": {},
   "source": [
    "From the plot above it can be seen that both training and validation loss are decreasing nicely during training. The validation loss remains at a higher level and starts to flatten out towards the last iterations which is an indication that the model has been trained sufficiently, yet didn't start to overfit. Anyway, following Jeremy Howard's advice, as long as our metric of interest - here the F1 Score - is not getting worse, everything is fine."
   ]
  },
  {
   "cell_type": "code",
   "execution_count": 185,
   "metadata": {},
   "outputs": [
    {
     "data": {
      "image/png": "[encoded data removed]",
      "text/plain": [
       "<Figure size 864x288 with 2 Axes>"
      ]
     },
     "metadata": {
      "needs_background": "light"
     },
     "output_type": "display_data"
    }
   ],
   "source": [
    "learn.recorder.plot_sched()"
   ]
  },
  {
   "cell_type": "markdown",
   "metadata": {},
   "source": [
    "The above plots demonstrate the **one-cycle training policy**. As already described above, the learning rate is low at the beginning, then increases sharply and is gradually reduced again. The momentum is scheduled in exactly the opposite way, starting high, dropping sharply and gradually increasing again. The logic behind this is that if you have a small learning rate and make careful updates, but you are going in the right direction for a while, the model can take larger steps and learn faster. If the learning rate is large on the other hand, momentum is lower to reduce the risk of making too large steps in the wrong direction.\n",
    "\n",
    "Saving the model for ensembling and inference"
   ]
  },
  {
   "cell_type": "code",
   "execution_count": 186,
   "metadata": {},
   "outputs": [],
   "source": [
    "learn.save('tweets_clf')"
   ]
  },
  {
   "cell_type": "markdown",
   "metadata": {},
   "source": [
    "### Backward processing"
   ]
  },
  {
   "cell_type": "markdown",
   "metadata": {},
   "source": [
    "Now I'm applying the same steps of fine-tuning a classifier from a pre-trained language model as above, but again with the tokens in reverse order. Everything else is exactly the same."
   ]
  },
  {
   "cell_type": "code",
   "execution_count": 207,
   "metadata": {},
   "outputs": [],
   "source": [
    "pkl_file = open('dls_cls.pkl', 'rb')\n",
    "dls_cls_bwd = pickle.load(pkl_file)\n",
    "pkl_file.close()"
   ]
  },
  {
   "cell_type": "markdown",
   "metadata": {},
   "source": [
    "Priting out the transformations that are stored with the classification DataLoaders"
   ]
  },
  {
   "cell_type": "code",
   "execution_count": 390,
   "metadata": {},
   "outputs": [
    {
     "data": {
      "text/plain": [
       "(Pipeline: ColReader -> Tokenizer -> Numericalize -> <lambda>,\n",
       " Pipeline: ColReader -> Categorize)"
      ]
     },
     "execution_count": 390,
     "metadata": {},
     "output_type": "execute_result"
    }
   ],
   "source": [
    "dls_cls_bwd.tfms[0], dls_cls_bwd.tfms[1]"
   ]
  },
  {
   "cell_type": "markdown",
   "metadata": {},
   "source": [
    "Adding the reverse transformation only to the text column"
   ]
  },
  {
   "cell_type": "code",
   "execution_count": 209,
   "metadata": {},
   "outputs": [],
   "source": [
    "dls_cls_bwd.tfms[0].add(Transform(lambda nums: nums.flip(0)))"
   ]
  },
  {
   "cell_type": "code",
   "execution_count": 344,
   "metadata": {},
   "outputs": [],
   "source": [
    "learn_bwd = text_classifier_learner(dls_cls_bwd, AWD_LSTM, drop_mult=0.5, metrics=[accuracy,F1Score(average='macro')],\n",
    "                               loss_func=LabelSmoothingCrossEntropy()).to_fp16()"
   ]
  },
  {
   "cell_type": "code",
   "execution_count": 345,
   "metadata": {},
   "outputs": [],
   "source": [
    "learn_bwd.load_encoder('tweets_lm_enc_bwd');"
   ]
  },
  {
   "cell_type": "code",
   "execution_count": 346,
   "metadata": {},
   "outputs": [
    {
     "data": {
      "text/html": [
       "<table border=\"1\" class=\"dataframe\">\n",
       "  <thead>\n",
       "    <tr style=\"text-align: left;\">\n",
       "      <th>epoch</th>\n",
       "      <th>train_loss</th>\n",
       "      <th>valid_loss</th>\n",
       "      <th>accuracy</th>\n",
       "      <th>f1_score</th>\n",
       "      <th>time</th>\n",
       "    </tr>\n",
       "  </thead>\n",
       "  <tbody>\n",
       "    <tr>\n",
       "      <td>0</td>\n",
       "      <td>0.939930</td>\n",
       "      <td>0.767722</td>\n",
       "      <td>0.729167</td>\n",
       "      <td>0.645511</td>\n",
       "      <td>00:09</td>\n",
       "    </tr>\n",
       "  </tbody>\n",
       "</table>"
      ],
      "text/plain": [
       "<IPython.core.display.HTML object>"
      ]
     },
     "metadata": {},
     "output_type": "display_data"
    }
   ],
   "source": [
    "lr, n_epoch, wd = 2e-1, 1, 0.01\n",
    "learn_bwd.fit_one_cycle(n_epoch, lr, wd=wd)"
   ]
  },
  {
   "cell_type": "code",
   "execution_count": 347,
   "metadata": {},
   "outputs": [
    {
     "data": {
      "text/html": [
       "<table border=\"1\" class=\"dataframe\">\n",
       "  <thead>\n",
       "    <tr style=\"text-align: left;\">\n",
       "      <th>epoch</th>\n",
       "      <th>train_loss</th>\n",
       "      <th>valid_loss</th>\n",
       "      <th>accuracy</th>\n",
       "      <th>f1_score</th>\n",
       "      <th>time</th>\n",
       "    </tr>\n",
       "  </thead>\n",
       "  <tbody>\n",
       "    <tr>\n",
       "      <td>0</td>\n",
       "      <td>0.709978</td>\n",
       "      <td>0.675881</td>\n",
       "      <td>0.785178</td>\n",
       "      <td>0.723093</td>\n",
       "      <td>00:10</td>\n",
       "    </tr>\n",
       "  </tbody>\n",
       "</table>"
      ],
      "text/plain": [
       "<IPython.core.display.HTML object>"
      ]
     },
     "metadata": {},
     "output_type": "display_data"
    }
   ],
   "source": [
    "learn_bwd.freeze_to(-2)\n",
    "learn_bwd.fit_one_cycle(n_epoch, slice((lr/2)/(2.6**4),lr/2), wd=wd)"
   ]
  },
  {
   "cell_type": "code",
   "execution_count": 348,
   "metadata": {},
   "outputs": [
    {
     "data": {
      "text/html": [
       "<table border=\"1\" class=\"dataframe\">\n",
       "  <thead>\n",
       "    <tr style=\"text-align: left;\">\n",
       "      <th>epoch</th>\n",
       "      <th>train_loss</th>\n",
       "      <th>valid_loss</th>\n",
       "      <th>accuracy</th>\n",
       "      <th>f1_score</th>\n",
       "      <th>time</th>\n",
       "    </tr>\n",
       "  </thead>\n",
       "  <tbody>\n",
       "    <tr>\n",
       "      <td>0</td>\n",
       "      <td>0.604315</td>\n",
       "      <td>0.673532</td>\n",
       "      <td>0.791325</td>\n",
       "      <td>0.734232</td>\n",
       "      <td>00:13</td>\n",
       "    </tr>\n",
       "  </tbody>\n",
       "</table>"
      ],
      "text/plain": [
       "<IPython.core.display.HTML object>"
      ]
     },
     "metadata": {},
     "output_type": "display_data"
    }
   ],
   "source": [
    "learn_bwd.freeze_to(-3)\n",
    "learn_bwd.fit_one_cycle(n_epoch, slice((lr/4)/(2.6**4),lr/4), wd=wd)"
   ]
  },
  {
   "cell_type": "code",
   "execution_count": 349,
   "metadata": {},
   "outputs": [
    {
     "data": {
      "text/html": [
       "<table border=\"1\" class=\"dataframe\">\n",
       "  <thead>\n",
       "    <tr style=\"text-align: left;\">\n",
       "      <th>epoch</th>\n",
       "      <th>train_loss</th>\n",
       "      <th>valid_loss</th>\n",
       "      <th>accuracy</th>\n",
       "      <th>f1_score</th>\n",
       "      <th>time</th>\n",
       "    </tr>\n",
       "  </thead>\n",
       "  <tbody>\n",
       "    <tr>\n",
       "      <td>0</td>\n",
       "      <td>0.516660</td>\n",
       "      <td>0.689407</td>\n",
       "      <td>0.788934</td>\n",
       "      <td>0.737093</td>\n",
       "      <td>00:17</td>\n",
       "    </tr>\n",
       "    <tr>\n",
       "      <td>1</td>\n",
       "      <td>0.460267</td>\n",
       "      <td>0.687917</td>\n",
       "      <td>0.800205</td>\n",
       "      <td>0.744531</td>\n",
       "      <td>00:17</td>\n",
       "    </tr>\n",
       "  </tbody>\n",
       "</table>"
      ],
      "text/plain": [
       "<IPython.core.display.HTML object>"
      ]
     },
     "metadata": {},
     "output_type": "display_data"
    }
   ],
   "source": [
    "learn_bwd.unfreeze()\n",
    "learn_bwd.fit_one_cycle(n_epoch*2, slice((lr/20)/(2.6**4),lr/20), wd=wd)"
   ]
  },
  {
   "cell_type": "code",
   "execution_count": 350,
   "metadata": {},
   "outputs": [],
   "source": [
    "learn.save('tweets_clf_bwd')"
   ]
  },
  {
   "cell_type": "markdown",
   "metadata": {},
   "source": [
    "### Ensembling"
   ]
  },
  {
   "cell_type": "markdown",
   "metadata": {},
   "source": [
    "Finally I will ensemble the predictions from both the forward and the backward classifier and see if it improves performance. For model evaluation I import `f1_score` and `classification_report` from scikit-learn."
   ]
  },
  {
   "cell_type": "code",
   "execution_count": 382,
   "metadata": {},
   "outputs": [],
   "source": [
    "from sklearn.metrics import f1_score, classification_report"
   ]
  },
  {
   "cell_type": "markdown",
   "metadata": {},
   "source": [
    "Retrieving validation set predictions and labels for the forward classifier"
   ]
  },
  {
   "cell_type": "code",
   "execution_count": 362,
   "metadata": {},
   "outputs": [
    {
     "data": {
      "text/html": [],
      "text/plain": [
       "<IPython.core.display.HTML object>"
      ]
     },
     "metadata": {},
     "output_type": "display_data"
    }
   ],
   "source": [
    "pred_fwd,lbl_fwd = learn.get_preds()"
   ]
  },
  {
   "cell_type": "code",
   "execution_count": 363,
   "metadata": {},
   "outputs": [
    {
     "name": "stdout",
     "output_type": "stream",
     "text": [
      "Forward accuracy: 0.8156\n",
      "Forward F1 score: 0.7547\n"
     ]
    }
   ],
   "source": [
    "print(f'Forward accuracy: {round(accuracy(pred_fwd, lbl_fwd).numpy().item(),4)}')\n",
    "print(f\"Forward F1 score: {round(f1_score(lbl_fwd, pred_fwd.argmax(-1), average='macro'),4)}\")"
   ]
  },
  {
   "cell_type": "markdown",
   "metadata": {},
   "source": [
    "Doing the same for the backward classifier"
   ]
  },
  {
   "cell_type": "code",
   "execution_count": 364,
   "metadata": {},
   "outputs": [
    {
     "data": {
      "text/html": [],
      "text/plain": [
       "<IPython.core.display.HTML object>"
      ]
     },
     "metadata": {},
     "output_type": "display_data"
    }
   ],
   "source": [
    "pred_bwd,lbl_bwd = learn_bwd.get_preds()"
   ]
  },
  {
   "cell_type": "code",
   "execution_count": 365,
   "metadata": {},
   "outputs": [
    {
     "name": "stdout",
     "output_type": "stream",
     "text": [
      "Backward accuracy: 0.8002\n",
      "Backward F1 score: 0.7445\n"
     ]
    }
   ],
   "source": [
    "print(f'Backward accuracy: {round(accuracy(pred_bwd, lbl_fwd).numpy().item(),4)}')\n",
    "print(f\"Backward F1 score: {round(f1_score(lbl_fwd, pred_bwd.argmax(-1), average='macro'),4)}\")"
   ]
  },
  {
   "cell_type": "markdown",
   "metadata": {},
   "source": [
    "And finally I'm ensembling the predictions from both models by simply averaging them. Note that calculating a weighted average with the better performing forward model being weighted twice as much as the backward model results in an even higher score."
   ]
  },
  {
   "cell_type": "code",
   "execution_count": 370,
   "metadata": {},
   "outputs": [],
   "source": [
    "final_pred = (pred_fwd*2 + pred_bwd) / 3"
   ]
  },
  {
   "cell_type": "code",
   "execution_count": 371,
   "metadata": {},
   "outputs": [
    {
     "name": "stdout",
     "output_type": "stream",
     "text": [
      "Forward and backward accuracy: 0.8221\n",
      "Forward and backward F1 score: 0.7637\n"
     ]
    }
   ],
   "source": [
    "print(f'Forward and backward accuracy: {round(accuracy(final_pred, lbl_fwd).numpy().item(),4)}')\n",
    "print(f\"Forward and backward F1 score: {round(f1_score(lbl_fwd, final_pred.argmax(-1), average='macro'),4)}\")"
   ]
  },
  {
   "cell_type": "code",
   "execution_count": 384,
   "metadata": {},
   "outputs": [
    {
     "name": "stdout",
     "output_type": "stream",
     "text": [
      "              precision    recall  f1-score   support\n",
      "\n",
      "           0       0.87      0.91      0.89      1866\n",
      "           1       0.66      0.60      0.63       590\n",
      "           2       0.78      0.76      0.77       472\n",
      "\n",
      "    accuracy                           0.82      2928\n",
      "   macro avg       0.77      0.76      0.76      2928\n",
      "weighted avg       0.82      0.82      0.82      2928\n",
      "\n"
     ]
    }
   ],
   "source": [
    "print(classification_report(lbl_fwd, final_pred.argmax(-1)))"
   ]
  },
  {
   "cell_type": "code",
   "execution_count": 385,
   "metadata": {},
   "outputs": [
    {
     "data": {
      "text/plain": [
       "(#3) ['negative','neutral','positive']"
      ]
     },
     "execution_count": 385,
     "metadata": {},
     "output_type": "execute_result"
    }
   ],
   "source": [
    "dls_cls.vocab[1]"
   ]
  },
  {
   "cell_type": "markdown",
   "metadata": {},
   "source": [
    "To sum up the results:\n",
    "- The forward classier performs better than the backward classifier both in terms of accuracy and F1 score. \n",
    "- The ensembled predictions achieve an even higher score, however the gain is relatively small. My assumption for this is that the errors from both classifiers are strongly correlated, i.e. they make the same mistakes\n",
    "- Accuracy would also have been a meaningful performance metric here since it is well correlated with F1 score.\n",
    "- Looking at the recall scores in the detailed classification report, it can be seen that the model predicts 91% of all negative labels correcty, 76% of all positive labels and only 60% of all neutral labels. \n",
    "- Precision scores - i.e. how many of all predicted examples in one class actually were that class - behave similarly, however with neutral and positive examples turning out slightly better relative to negative ones.\n",
    "\n",
    "I would evaluate the overall model performance as rather good. The model performs very well on negative examples, which in a production use case should contain the most relevant information since it can help airlines improve customer satisfaction. The performance on positive examples should also be sufficiently good for practical use. This can help airlines to find out what they are doing right and should not be changing. The lowest scores were achieved for neutral examples, which is not surprising since neutrals border both with negatives and positives and could more easily be confused. However, if the most important trends in the data can be discovered from the negative and positive examples the lower performance on neutral tweets could be acceptable. In many academic sentiment classification datasets, e.g. also in the IMDb movie reviews dataset, neutral reviews are entirely excluded, what makes it for the classifier obviously much easier to achieve a higher performance in terms of accuracy."
   ]
  },
  {
   "cell_type": "markdown",
   "metadata": {},
   "source": [
    "### Error analysis"
   ]
  },
  {
   "cell_type": "markdown",
   "metadata": {},
   "source": [
    "Let's now look into the errors the model makes in more detail by printing out some of the fastai interpretation methods. Note that I only run model interpretation on the higher scoring forward model, assuming that the backward model will show similar results."
   ]
  },
  {
   "cell_type": "code",
   "execution_count": 386,
   "metadata": {},
   "outputs": [
    {
     "data": {
      "text/html": [],
      "text/plain": [
       "<IPython.core.display.HTML object>"
      ]
     },
     "metadata": {},
     "output_type": "display_data"
    },
    {
     "data": {
      "image/png": "[encoded data removed]",
      "text/plain": [
       "<Figure size 432x288 with 1 Axes>"
      ]
     },
     "metadata": {
      "needs_background": "light"
     },
     "output_type": "display_data"
    }
   ],
   "source": [
    "interp = ClassificationInterpretation.from_learner(learn)\n",
    "interp.plot_confusion_matrix()"
   ]
  },
  {
   "cell_type": "code",
   "execution_count": 387,
   "metadata": {},
   "outputs": [
    {
     "data": {
      "text/plain": [
       "[('neutral', 'negative', 190),\n",
       " ('negative', 'neutral', 127),\n",
       " ('positive', 'negative', 67),\n",
       " ('neutral', 'positive', 60),\n",
       " ('negative', 'positive', 48),\n",
       " ('positive', 'neutral', 48)]"
      ]
     },
     "execution_count": 387,
     "metadata": {},
     "output_type": "execute_result"
    }
   ],
   "source": [
    "interp.most_confused()"
   ]
  },
  {
   "cell_type": "markdown",
   "metadata": {},
   "source": [
    "It can be seen in both confusion matrix and most confused classes, that the model mostly confuses neutral and negative examples which nevertheless should be interpreted carefully, since there are also many more negative than positive examples in the validation set. Surprisingly the model confuses negative and positive examples more often than neutral and positive examples. The reason behind this could be tweets containing subtle irony."
   ]
  },
  {
   "cell_type": "code",
   "execution_count": 388,
   "metadata": {},
   "outputs": [
    {
     "data": {
      "text/html": [
       "<table border=\"1\" class=\"dataframe\">\n",
       "  <thead>\n",
       "    <tr style=\"text-align: right;\">\n",
       "      <th></th>\n",
       "      <th>input</th>\n",
       "      <th>target</th>\n",
       "      <th>predicted</th>\n",
       "      <th>probability</th>\n",
       "      <th>loss</th>\n",
       "    </tr>\n",
       "  </thead>\n",
       "  <tbody>\n",
       "    <tr>\n",
       "      <th>0</th>\n",
       "      <td>xxbos @delta @jetblue what are the chances of actually flying out of xxmaj charleston today ? ? xxmaj cold , xxunk weather in the south of all places …</td>\n",
       "      <td>positive</td>\n",
       "      <td>neutral</td>\n",
       "      <td>0.9897045493125916</td>\n",
       "      <td>5.151103496551514</td>\n",
       "    </tr>\n",
       "    <tr>\n",
       "      <th>1</th>\n",
       "      <td>xxbos @southwestair @fortunemagazine xxmaj congratulations !</td>\n",
       "      <td>neutral</td>\n",
       "      <td>positive</td>\n",
       "      <td>0.9116714596748352</td>\n",
       "      <td>4.337149620056152</td>\n",
       "    </tr>\n",
       "    <tr>\n",
       "      <th>2</th>\n",
       "      <td>xxbos @delta @jetblue 's xxup ceo battles to appease passengers and xxmaj wall xxmaj street - xxmaj waterbury xxmaj republican xxmaj american http : / / t.co / xxunk</td>\n",
       "      <td>negative</td>\n",
       "      <td>neutral</td>\n",
       "      <td>0.9473183155059814</td>\n",
       "      <td>4.334376811981201</td>\n",
       "    </tr>\n",
       "    <tr>\n",
       "      <th>3</th>\n",
       "      <td>xxbos @americanair xxmaj is it possible to change the xxup ff number on a passenger on a xxmaj flight xxmaj booking xxmaj problems , it wo n't let me change it ?</td>\n",
       "      <td>negative</td>\n",
       "      <td>neutral</td>\n",
       "      <td>0.9649021029472351</td>\n",
       "      <td>4.257993698120117</td>\n",
       "    </tr>\n",
       "    <tr>\n",
       "      <th>4</th>\n",
       "      <td>xxbos @southwestair save mile to visit family in 2015 and this will impact how many times i can see my mother . i planned and you change the rules</td>\n",
       "      <td>positive</td>\n",
       "      <td>neutral</td>\n",
       "      <td>0.9665367007255554</td>\n",
       "      <td>4.230259895324707</td>\n",
       "    </tr>\n",
       "    <tr>\n",
       "      <th>5</th>\n",
       "      <td>xxbos @delta xxmaj lmfa xxrep 3 o “ @jetblue : xxmaj our fleet 's on fleek . http : / / t.co / xxunk ”</td>\n",
       "      <td>positive</td>\n",
       "      <td>negative</td>\n",
       "      <td>0.529869556427002</td>\n",
       "      <td>4.140007019042969</td>\n",
       "    </tr>\n",
       "    <tr>\n",
       "      <th>6</th>\n",
       "      <td>xxbos @delta @jetblue xxunk xxunk</td>\n",
       "      <td>positive</td>\n",
       "      <td>neutral</td>\n",
       "      <td>0.7724604606628418</td>\n",
       "      <td>4.11350679397583</td>\n",
       "    </tr>\n",
       "    <tr>\n",
       "      <th>7</th>\n",
       "      <td>xxbos @southwestair xxmaj how do i stop getting credit card apps ? i already have a card !</td>\n",
       "      <td>negative</td>\n",
       "      <td>neutral</td>\n",
       "      <td>0.9703917503356934</td>\n",
       "      <td>4.051311492919922</td>\n",
       "    </tr>\n",
       "    <tr>\n",
       "      <th>8</th>\n",
       "      <td>xxbos @united xxunk xxunk @fioretti2ndward @garcia4chicago xxup faa invest near miss on o'hare runway last wk : http : / / t.co / xxunk</td>\n",
       "      <td>neutral</td>\n",
       "      <td>negative</td>\n",
       "      <td>0.9707198739051819</td>\n",
       "      <td>4.029001235961914</td>\n",
       "    </tr>\n",
       "    <tr>\n",
       "      <th>9</th>\n",
       "      <td>xxbos @southwestair xxup betsy is the xxup besty ! xxmaj gettin ' stuck at # xxup las might not be bad for most .. but i want home ! # xxunk # betsy # besty # thankyou</td>\n",
       "      <td>negative</td>\n",
       "      <td>positive</td>\n",
       "      <td>0.6787416338920593</td>\n",
       "      <td>4.02787971496582</td>\n",
       "    </tr>\n",
       "  </tbody>\n",
       "</table>"
      ],
      "text/plain": [
       "<IPython.core.display.HTML object>"
      ]
     },
     "metadata": {},
     "output_type": "display_data"
    }
   ],
   "source": [
    "interp.plot_top_losses(k=10)"
   ]
  },
  {
   "cell_type": "markdown",
   "metadata": {},
   "source": [
    "Looking at the highest losses above reveils interesting insights about the dataset:\n",
    "- There are some tweets that I would consider to be mislabeled. E.g. I don't see anything in tweet 0 that would make it positive. Similarly, tweet 4 actually sounds more negative than positive to me. \n",
    "- There are some very short tweets or tweets that don't contain much valuable information, such as tweets 5, 6 and 8.\n",
    "- But there are also cases where the model simply made a mistake, e.g tweets 2, 3, and 7."
   ]
  },
  {
   "cell_type": "code",
   "execution_count": 389,
   "metadata": {},
   "outputs": [
    {
     "data": {
      "text/html": [
       "<table border=\"1\" class=\"dataframe\">\n",
       "  <thead>\n",
       "    <tr style=\"text-align: right;\">\n",
       "      <th></th>\n",
       "      <th>input</th>\n",
       "      <th>target</th>\n",
       "      <th>predicted</th>\n",
       "      <th>probability</th>\n",
       "      <th>loss</th>\n",
       "    </tr>\n",
       "  </thead>\n",
       "  <tbody>\n",
       "    <tr>\n",
       "      <th>0</th>\n",
       "      <td>xxbos @united boarding was decent , 3 useless agents that do n't speak xxmaj english ( after xxunk of hold ) 6hrs of mech delay not so much</td>\n",
       "      <td>negative</td>\n",
       "      <td>negative</td>\n",
       "      <td>0.9339267015457153</td>\n",
       "      <td>0.2911436855792999</td>\n",
       "    </tr>\n",
       "    <tr>\n",
       "      <th>1</th>\n",
       "      <td>xxbos @americanair pretty impressed with the in flight entertainment . xxmaj full touch , xxunk , smooth , good selection .</td>\n",
       "      <td>positive</td>\n",
       "      <td>positive</td>\n",
       "      <td>0.9328001141548157</td>\n",
       "      <td>0.2911463975906372</td>\n",
       "    </tr>\n",
       "    <tr>\n",
       "      <th>2</th>\n",
       "      <td>xxbos @usairways xxmaj cancelled xxmaj flightled due to maintenance . xxmaj the plane was there for 10 hours . xxmaj get your shit together because there are a lot of people unhappy .</td>\n",
       "      <td>negative</td>\n",
       "      <td>negative</td>\n",
       "      <td>0.9338292479515076</td>\n",
       "      <td>0.2911504805088043</td>\n",
       "    </tr>\n",
       "    <tr>\n",
       "      <th>3</th>\n",
       "      <td>xxbos @united wanted to point out that not one xxmaj united crew has been sympathetic . xxmaj questions xxunk . mileageplus is starting to look like a joke</td>\n",
       "      <td>negative</td>\n",
       "      <td>negative</td>\n",
       "      <td>0.9343459010124207</td>\n",
       "      <td>0.2911507487297058</td>\n",
       "    </tr>\n",
       "    <tr>\n",
       "      <th>4</th>\n",
       "      <td>xxbos @usairways sorry does n't help . xxmaj it 's midnight xxup pst . xxmaj how in the hell am i still on hold after 90 minutes on customer service line ?</td>\n",
       "      <td>negative</td>\n",
       "      <td>negative</td>\n",
       "      <td>0.9343749284744263</td>\n",
       "      <td>0.2911522686481476</td>\n",
       "    </tr>\n",
       "    <tr>\n",
       "      <th>5</th>\n",
       "      <td>xxbos @americanair 1hr 46 min . xxmaj cost of flight change $ 788 . xxmaj was $ 188 2hrs ago b / f drop call . xxmaj cancelled xxmaj flighted flight . xxmaj asked 4 refund .</td>\n",
       "      <td>negative</td>\n",
       "      <td>negative</td>\n",
       "      <td>0.9327638149261475</td>\n",
       "      <td>0.291152685880661</td>\n",
       "    </tr>\n",
       "    <tr>\n",
       "      <th>6</th>\n",
       "      <td>xxbos @usairways xxmaj seat xxunk on xxmaj flight 545 last night is the worst seat xxmaj i 've ever been in . xxmaj no leg room ! # xxunk http : / / t.co / xxunk</td>\n",
       "      <td>negative</td>\n",
       "      <td>negative</td>\n",
       "      <td>0.9320341348648071</td>\n",
       "      <td>0.2911541759967804</td>\n",
       "    </tr>\n",
       "    <tr>\n",
       "      <th>7</th>\n",
       "      <td>xxbos @usairways your service at xxup phl is abysmal . xxmaj an hour on the runway waiting for a gate , no information anywhere , missed my connection abysmal !</td>\n",
       "      <td>negative</td>\n",
       "      <td>negative</td>\n",
       "      <td>0.9337310194969177</td>\n",
       "      <td>0.29115796089172363</td>\n",
       "    </tr>\n",
       "    <tr>\n",
       "      <th>8</th>\n",
       "      <td>xxbos @americanair has to be the worst airline in the world # yousuck # horrible # xxmaj oscars2015</td>\n",
       "      <td>negative</td>\n",
       "      <td>negative</td>\n",
       "      <td>0.9319080710411072</td>\n",
       "      <td>0.29115912318229675</td>\n",
       "    </tr>\n",
       "    <tr>\n",
       "      <th>9</th>\n",
       "      <td>xxbos @americanair i did . 5 times . xxmaj with 4 of those being hung up on . xxmaj the other one it finally sent me to the call back notification . # xxunk</td>\n",
       "      <td>negative</td>\n",
       "      <td>negative</td>\n",
       "      <td>0.934791624546051</td>\n",
       "      <td>0.2911621928215027</td>\n",
       "    </tr>\n",
       "  </tbody>\n",
       "</table>"
      ],
      "text/plain": [
       "<IPython.core.display.HTML object>"
      ]
     },
     "metadata": {},
     "output_type": "display_data"
    }
   ],
   "source": [
    "interp.plot_top_losses(k=10, largest=False)"
   ]
  },
  {
   "cell_type": "markdown",
   "metadata": {},
   "source": [
    "Looking the lowest losses, or in other words where the model confidently predicted the correct class, shows no surprises. Apart from one positive example, all other 9 tweets are negative and all tweets contain sufficient information and are clearly formulated which makes it easy for the classifier."
   ]
  },
  {
   "cell_type": "markdown",
   "metadata": {},
   "source": [
    "## Conclusion"
   ]
  },
  {
   "cell_type": "markdown",
   "metadata": {},
   "source": [
    "In this notebook I trained a ULMFiT model on the US Airline Twitter Sentiment dataset leveraging the power of semi-supervised language model pre-training and fine-tuning. The model performed very well on the task at hand, achieving an accuracy of 82% and a F1 score of 76%. Performance was best for negative examples and worst for neutral examples. Even though ensembling a forward and backward model resulted in a slightly higher accuracy and F1 score, which could make a difference in data science competitions, the performance gains relative to the additional effort would make me choose the forward classifier over ensembling for deploying the classifier to production systems. \n",
    "\n",
    "There has been a lot of progress in NLP since the publication of the ULMFiT paper, specifically with large pre-trained transformer models, but ULMFiT is still be very powerful and efficient method for text classification. This is especially the case when only a small labelled dataset but a large corpus of unlabelled domain-specific documents are available as in many industry settings. \n",
    "\n",
    "In order to further improve the model, one could:\n",
    "- spend more time on data cleaning and pre-processing, e.g. identifying and correcting mislabelled examples\n",
    "- expand the twitter corpus for language model fine-tuning with more unlabelled data\n",
    "- fine-tune a large state-of-the-art transformer model, such as BERT, RoBERTa or XLNet\n",
    "\n",
    "All training was performed on a P5000 GPU using paperspace except back-translation which was done on a P100 GPU on GCP."
   ]
  }
 ],
 "metadata": {
  "kernelspec": {
   "display_name": "Python 3",
   "language": "python",
   "name": "python3"
  },
  "language_info": {
   "codemirror_mode": {
    "name": "ipython",
    "version": 3
   },
   "file_extension": ".py",
   "mimetype": "text/x-python",
   "name": "python",
   "nbconvert_exporter": "python",
   "pygments_lexer": "ipython3",
   "version": "3.7.6"
  }
 },
 "nbformat": 4,
 "nbformat_minor": 4
}
